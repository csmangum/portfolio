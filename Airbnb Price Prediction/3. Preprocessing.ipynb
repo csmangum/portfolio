{
 "cells": [
  {
   "cell_type": "markdown",
   "metadata": {},
   "source": [
    "# Summary"
   ]
  },
  {
   "cell_type": "markdown",
   "metadata": {},
   "source": [
    "## Actions\n",
    "* Created a variable for when a security deposit is required\n",
    "* Bundled misc property types in 'other' category\n",
    "* Created new features based on the amenities text field\n",
    "* Removed 'zipcode', 'availability_60', 'availability_90', 'bed_type', 'host_has_profile_pic', 'requires_license'\n",
    "* One-hot-encoded all categorical features\n",
    "* Imputed all missing values with the median value\n",
    "* Log transformed the price target"
   ]
  },
  {
   "cell_type": "markdown",
   "metadata": {
    "toc": true
   },
   "source": [
    "<h1>Table of Contents<span class=\"tocSkip\"></span></h1>\n",
    "<div class=\"toc\"><ul class=\"toc-item\"><li><span><a href=\"#Summary\" data-toc-modified-id=\"Summary-1\"><span class=\"toc-item-num\">1&nbsp;&nbsp;</span>Summary</a></span><ul class=\"toc-item\"><li><span><a href=\"#Actions\" data-toc-modified-id=\"Actions-1.1\"><span class=\"toc-item-num\">1.1&nbsp;&nbsp;</span>Actions</a></span></li></ul></li><li><span><a href=\"#Create-Variables\" data-toc-modified-id=\"Create-Variables-2\"><span class=\"toc-item-num\">2&nbsp;&nbsp;</span>Create Variables</a></span></li><li><span><a href=\"#Category-Encoding\" data-toc-modified-id=\"Category-Encoding-3\"><span class=\"toc-item-num\">3&nbsp;&nbsp;</span>Category Encoding</a></span></li><li><span><a href=\"#Imputing\" data-toc-modified-id=\"Imputing-4\"><span class=\"toc-item-num\">4&nbsp;&nbsp;</span>Imputing</a></span></li><li><span><a href=\"#Target-Transformation\" data-toc-modified-id=\"Target-Transformation-5\"><span class=\"toc-item-num\">5&nbsp;&nbsp;</span>Target Transformation</a></span></li></ul></div>"
   ]
  },
  {
   "cell_type": "code",
   "execution_count": 1,
   "metadata": {
    "ExecuteTime": {
     "end_time": "2020-01-25T04:19:55.600671Z",
     "start_time": "2020-01-25T04:19:52.747574Z"
    }
   },
   "outputs": [],
   "source": [
    "# Import needed libraries\n",
    "import seaborn as sns\n",
    "import pandas as pd\n",
    "import numpy as np\n",
    "import math\n",
    "import matplotlib.pyplot as plt\n",
    "%matplotlib inline\n",
    "sns.set()\n",
    "\n",
    "plt.style.use('fivethirtyeight')\n",
    "\n",
    "# Display all rows and columns\n",
    "pd.set_option('display.max_rows', None)\n",
    "pd.set_option('display.max_columns', None)\n",
    "\n",
    "df = pd.read_pickle('data/listings_cleaned.pkl')"
   ]
  },
  {
   "cell_type": "code",
   "execution_count": 2,
   "metadata": {
    "ExecuteTime": {
     "end_time": "2020-01-25T04:19:55.613658Z",
     "start_time": "2020-01-25T04:19:55.604660Z"
    }
   },
   "outputs": [],
   "source": [
    "X = df.drop(columns='price',axis=1)\n",
    "y = df.price"
   ]
  },
  {
   "cell_type": "markdown",
   "metadata": {},
   "source": [
    "# Create Variables"
   ]
  },
  {
   "cell_type": "code",
   "execution_count": 3,
   "metadata": {
    "ExecuteTime": {
     "end_time": "2020-01-25T04:19:55.648645Z",
     "start_time": "2020-01-25T04:19:55.616657Z"
    }
   },
   "outputs": [],
   "source": [
    "# Create security_deposit_required boolean feature then drop security_deposit column\n",
    "list_sec = df['security_deposit']\n",
    "sd = []\n",
    "for row in list_sec:\n",
    "    if pd.isnull(row):\n",
    "        sd.append(0.0)\n",
    "    else:\n",
    "        sd.append(1.0)\n",
    "df['security_deposit_required'] = sd\n",
    "df = df.drop('security_deposit',axis=1)"
   ]
  },
  {
   "cell_type": "code",
   "execution_count": 4,
   "metadata": {
    "ExecuteTime": {
     "end_time": "2020-01-25T04:19:56.016545Z",
     "start_time": "2020-01-25T04:19:55.651647Z"
    }
   },
   "outputs": [],
   "source": [
    "# Create an \"Other\" Category\n",
    "cat_rename = ['Boat','Guest suite','Boutique hotel','Tent','Serviced apartment','Castle','Yurt',\n",
    "              'Vacation home','Treehouse','Hut','Tipi','Earth House','Chalet','In-law',\n",
    "              'Train','Plane','Island','Cave','Parking Space','Casa particular',\n",
    "              'Lighthouse','Hostel','Cabin','Camper/RV','Dorm','Villa','Other']\n",
    "df['property_type'].loc[df['property_type'].isin(cat_rename)] = 'Other'"
   ]
  },
  {
   "cell_type": "code",
   "execution_count": 5,
   "metadata": {
    "ExecuteTime": {
     "end_time": "2020-01-25T04:19:56.230474Z",
     "start_time": "2020-01-25T04:19:56.020529Z"
    }
   },
   "outputs": [],
   "source": [
    "# Derive new features from the text field 'amenities'\n",
    "ame = df.amenities.astype('object')\n",
    "ame_list = ('Internet','Wireless','Kitchen','Free parking','Air conditioning','TV','Pets','Heating')\n",
    "\n",
    "for am in (ame_list):\n",
    "    df[am] = ame.str.contains(am)\n",
    "\n",
    "df = df.drop('amenities',axis=1)"
   ]
  },
  {
   "cell_type": "code",
   "execution_count": 6,
   "metadata": {
    "ExecuteTime": {
     "end_time": "2020-01-25T04:19:56.242473Z",
     "start_time": "2020-01-25T04:19:56.231476Z"
    }
   },
   "outputs": [],
   "source": [
    "df = df.drop(columns=['zipcode', 'availability_60', 'availability_90', 'bed_type', 'host_has_profile_pic',\n",
    "                     'requires_license'], axis=1)"
   ]
  },
  {
   "cell_type": "markdown",
   "metadata": {
    "ExecuteTime": {
     "end_time": "2019-03-29T06:41:55.543443Z",
     "start_time": "2019-03-29T06:41:55.540443Z"
    }
   },
   "source": [
    "# Category Encoding"
   ]
  },
  {
   "cell_type": "code",
   "execution_count": 7,
   "metadata": {
    "ExecuteTime": {
     "end_time": "2020-01-25T04:19:56.273463Z",
     "start_time": "2020-01-25T04:19:56.243472Z"
    }
   },
   "outputs": [],
   "source": [
    "# Turn categorical into column features\n",
    "features = ['host_response_time','property_type','room_type','cancellation_policy']\n",
    "df = pd.get_dummies(df,columns=features,drop_first=True, dtype='bool')"
   ]
  },
  {
   "cell_type": "markdown",
   "metadata": {},
   "source": [
    "# Imputing"
   ]
  },
  {
   "cell_type": "code",
   "execution_count": 8,
   "metadata": {
    "ExecuteTime": {
     "end_time": "2020-01-25T04:19:56.280462Z",
     "start_time": "2020-01-25T04:19:56.275462Z"
    }
   },
   "outputs": [],
   "source": [
    "# Function to calculate missing values by column# Funct\n",
    "def missing_values_table(df):\n",
    "    # Total missing values\n",
    "    mis_val = df.isnull().sum()\n",
    "\n",
    "    # Percentage of missing values\n",
    "    mis_val_percent = 100 * df.isnull().sum() / len(df)\n",
    "\n",
    "    # Make a table with the results\n",
    "    mis_val_table = pd.concat([mis_val, mis_val_percent], axis=1)\n",
    "\n",
    "    # Rename the columns\n",
    "    mis_val_table_ren_columns = mis_val_table.rename(\n",
    "        columns={0: 'Missing Values', 1: '% of Total Values'})\n",
    "\n",
    "    # Sort the table by percentage of missing descending\n",
    "    mis_val_table_ren_columns = mis_val_table_ren_columns[\n",
    "        mis_val_table_ren_columns.iloc[:, 1] != 0].sort_values(\n",
    "        '% of Total Values', ascending=False).round(1)\n",
    "\n",
    "    # Print some summary information\n",
    "    print(\"Your selected dataframe has \" + str(df.shape[1]) + \" columns and \" + str(df.shape[0]) + \" rows.\\n\"\n",
    "          \"There are \" + str(mis_val_table_ren_columns.shape[0]) +\n",
    "          \" columns that have missing values.\")\n",
    "\n",
    "    # Return the dataframe with missing information\n",
    "    return mis_val_table_ren_columns"
   ]
  },
  {
   "cell_type": "code",
   "execution_count": 9,
   "metadata": {
    "ExecuteTime": {
     "end_time": "2020-01-25T04:19:56.399423Z",
     "start_time": "2020-01-25T04:19:56.281460Z"
    }
   },
   "outputs": [
    {
     "name": "stdout",
     "output_type": "stream",
     "text": [
      "Your selected dataframe has 72 columns and 30854 rows.\n",
      "There are 8 columns that have missing values.\n"
     ]
    }
   ],
   "source": [
    "missing = missing_values_table(df)"
   ]
  },
  {
   "cell_type": "code",
   "execution_count": 10,
   "metadata": {
    "ExecuteTime": {
     "end_time": "2020-01-25T04:19:56.418421Z",
     "start_time": "2020-01-25T04:19:56.403423Z"
    }
   },
   "outputs": [],
   "source": [
    "# Impute missing instances with the median\n",
    "for col in missing.index:\n",
    "    try:\n",
    "        df[col] = df[col].fillna(df[col].median())\n",
    "    except:\n",
    "        pass"
   ]
  },
  {
   "cell_type": "markdown",
   "metadata": {},
   "source": [
    "# Target Transformation"
   ]
  },
  {
   "cell_type": "code",
   "execution_count": 11,
   "metadata": {
    "ExecuteTime": {
     "end_time": "2020-01-25T04:19:56.825319Z",
     "start_time": "2020-01-25T04:19:56.425415Z"
    }
   },
   "outputs": [
    {
     "data": {
      "image/png": "[encoded data removed]",
      "text/plain": [
       "<Figure size 432x288 with 1 Axes>"
      ]
     },
     "metadata": {
      "needs_background": "light"
     },
     "output_type": "display_data"
    },
    {
     "data": {
      "image/png": "[encoded data removed]",
      "text/plain": [
       "<Figure size 432x288 with 1 Axes>"
      ]
     },
     "metadata": {
      "needs_background": "light"
     },
     "output_type": "display_data"
    }
   ],
   "source": [
    "# log transform the response 'price'\n",
    "df['price_log'] = df['price'].apply(lambda x: math.log(x+1))\n",
    "\n",
    "# visualize distribution of price (target variable)\n",
    "plt.hist(df['price'], bins=30)\n",
    "plt.title(\"Histogram of Pricing (Original)\")\n",
    "plt.xlabel(\"Pricing (USD) Per Day\")\n",
    "plt.ylabel(\"Frequency\")\n",
    "plt.show()\n",
    "\n",
    "# visualize distribution of price (target variable)\n",
    "plt.hist(df['price_log'], bins=30)\n",
    "plt.title(\"Histogram of Pricing Log-Transformed\")\n",
    "plt.xlabel(\"Pricing (USD) Per Day\")\n",
    "plt.ylabel(\"Frequency\")\n",
    "plt.show()"
   ]
  },
  {
   "cell_type": "code",
   "execution_count": 12,
   "metadata": {
    "ExecuteTime": {
     "end_time": "2020-01-25T04:19:56.851282Z",
     "start_time": "2020-01-25T04:19:56.827286Z"
    }
   },
   "outputs": [],
   "source": [
    "df.to_pickle('data/listings_cleaned_processed.pkl')"
   ]
  }
 ],
 "metadata": {
  "kernelspec": {
   "display_name": "Python 3",
   "language": "python",
   "name": "python3"
  },
  "language_info": {
   "codemirror_mode": {
    "name": "ipython",
    "version": 3
   },
   "file_extension": ".py",
   "mimetype": "text/x-python",
   "name": "python",
   "nbconvert_exporter": "python",
   "pygments_lexer": "ipython3",
   "version": "3.6.8"
  },
  "toc": {
   "nav_menu": {},
   "number_sections": true,
   "sideBar": true,
   "skip_h1_title": false,
   "title_cell": "Table of Contents",
   "title_sidebar": "Contents",
   "toc_cell": true,
   "toc_position": {
    "height": "calc(100% - 180px)",
    "left": "10px",
    "top": "150px",
    "width": "384px"
   },
   "toc_section_display": true,
   "toc_window_display": false
  }
 },
 "nbformat": 4,
 "nbformat_minor": 2
}

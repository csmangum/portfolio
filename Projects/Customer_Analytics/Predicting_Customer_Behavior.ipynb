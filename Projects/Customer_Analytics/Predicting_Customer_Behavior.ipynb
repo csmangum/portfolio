{
 "cells": [
  {
   "cell_type": "markdown",
   "metadata": {},
   "source": [
    "# Customer Analytics Project"
   ]
  },
  {
   "cell_type": "markdown",
   "metadata": {},
   "source": [
    "## Background:\n",
    "Simulated data downloaded from the LinkedIn course called \"Predictive Customer Analytics\".\n",
    "\n",
    "\n",
    "### *Primary Question*\n",
    "\n",
    "*Can we predict customer behavior?*\n",
    "\n",
    "\n",
    "## Outline:\n",
    "* Part 1 - Customer Propensity\n",
    "* Part 2 - Customer Prefrences\n",
    "* Part 3 - Predict Customer Lifetime Value (CLV)\n",
    "* Part 4 - Group Customer Issues\n",
    "* Part 5 - Identify Customer Retention\n",
    "\n",
    "***"
   ]
  },
  {
   "cell_type": "markdown",
   "metadata": {},
   "source": [
    "# PART 1: CUSTOMER PROPENSITY"
   ]
  },
  {
   "cell_type": "markdown",
   "metadata": {},
   "source": [
    "# Import libraries and load data"
   ]
  },
  {
   "cell_type": "code",
   "execution_count": 1,
   "metadata": {
    "collapsed": true
   },
   "outputs": [],
   "source": [
    "import pandas as pd\n",
    "import numpy as np\n",
    "import seaborn as sns\n",
    "import matplotlib.pylab as plt\n",
    "%matplotlib inline"
   ]
  },
  {
   "cell_type": "code",
   "execution_count": 2,
   "metadata": {
    "collapsed": true
   },
   "outputs": [],
   "source": [
    "browsing = pd.read_csv('data/browsing_data.csv')"
   ]
  },
  {
   "cell_type": "markdown",
   "metadata": {},
   "source": [
    "# Explore the Data"
   ]
  },
  {
   "cell_type": "code",
   "execution_count": 3,
   "metadata": {},
   "outputs": [
    {
     "name": "stdout",
     "output_type": "stream",
     "text": [
      "<class 'pandas.core.frame.DataFrame'>\n",
      "RangeIndex: 500 entries, 0 to 499\n",
      "Data columns (total 12 columns):\n",
      "SESSION_ID         500 non-null int64\n",
      "IMAGES             500 non-null int64\n",
      "REVIEWS            500 non-null int64\n",
      "FAQ                500 non-null int64\n",
      "SPECS              500 non-null int64\n",
      "SHIPPING           500 non-null int64\n",
      "BOUGHT_TOGETHER    500 non-null int64\n",
      "COMPARE_SIMILAR    500 non-null int64\n",
      "VIEW_SIMILAR       500 non-null int64\n",
      "WARRANTY           500 non-null int64\n",
      "SPONSORED_LINKS    500 non-null int64\n",
      "BUY                500 non-null int64\n",
      "dtypes: int64(12)\n",
      "memory usage: 47.0 KB\n"
     ]
    }
   ],
   "source": [
    "# No missing data and all integers wih the target variable \"BUY\"\n",
    "browsing.info()"
   ]
  },
  {
   "cell_type": "code",
   "execution_count": 4,
   "metadata": {},
   "outputs": [
    {
     "data": {
      "text/html": [
       "<div>\n",
       "<style>\n",
       "    .dataframe thead tr:only-child th {\n",
       "        text-align: right;\n",
       "    }\n",
       "\n",
       "    .dataframe thead th {\n",
       "        text-align: left;\n",
       "    }\n",
       "\n",
       "    .dataframe tbody tr th {\n",
       "        vertical-align: top;\n",
       "    }\n",
       "</style>\n",
       "<table border=\"1\" class=\"dataframe\">\n",
       "  <thead>\n",
       "    <tr style=\"text-align: right;\">\n",
       "      <th></th>\n",
       "      <th>SESSION_ID</th>\n",
       "      <th>IMAGES</th>\n",
       "      <th>REVIEWS</th>\n",
       "      <th>FAQ</th>\n",
       "      <th>SPECS</th>\n",
       "      <th>SHIPPING</th>\n",
       "      <th>BOUGHT_TOGETHER</th>\n",
       "      <th>COMPARE_SIMILAR</th>\n",
       "      <th>VIEW_SIMILAR</th>\n",
       "      <th>WARRANTY</th>\n",
       "      <th>SPONSORED_LINKS</th>\n",
       "      <th>BUY</th>\n",
       "    </tr>\n",
       "  </thead>\n",
       "  <tbody>\n",
       "    <tr>\n",
       "      <th>count</th>\n",
       "      <td>500.000000</td>\n",
       "      <td>500.000000</td>\n",
       "      <td>500.0000</td>\n",
       "      <td>500.000000</td>\n",
       "      <td>500.0000</td>\n",
       "      <td>500.000000</td>\n",
       "      <td>500.000000</td>\n",
       "      <td>500.000000</td>\n",
       "      <td>500.000000</td>\n",
       "      <td>500.000000</td>\n",
       "      <td>500.000000</td>\n",
       "      <td>500.000000</td>\n",
       "    </tr>\n",
       "    <tr>\n",
       "      <th>mean</th>\n",
       "      <td>1250.500000</td>\n",
       "      <td>0.510000</td>\n",
       "      <td>0.5200</td>\n",
       "      <td>0.440000</td>\n",
       "      <td>0.4800</td>\n",
       "      <td>0.528000</td>\n",
       "      <td>0.500000</td>\n",
       "      <td>0.580000</td>\n",
       "      <td>0.468000</td>\n",
       "      <td>0.532000</td>\n",
       "      <td>0.550000</td>\n",
       "      <td>0.370000</td>\n",
       "    </tr>\n",
       "    <tr>\n",
       "      <th>std</th>\n",
       "      <td>144.481833</td>\n",
       "      <td>0.500401</td>\n",
       "      <td>0.5001</td>\n",
       "      <td>0.496884</td>\n",
       "      <td>0.5001</td>\n",
       "      <td>0.499715</td>\n",
       "      <td>0.500501</td>\n",
       "      <td>0.494053</td>\n",
       "      <td>0.499475</td>\n",
       "      <td>0.499475</td>\n",
       "      <td>0.497992</td>\n",
       "      <td>0.483288</td>\n",
       "    </tr>\n",
       "    <tr>\n",
       "      <th>min</th>\n",
       "      <td>1001.000000</td>\n",
       "      <td>0.000000</td>\n",
       "      <td>0.0000</td>\n",
       "      <td>0.000000</td>\n",
       "      <td>0.0000</td>\n",
       "      <td>0.000000</td>\n",
       "      <td>0.000000</td>\n",
       "      <td>0.000000</td>\n",
       "      <td>0.000000</td>\n",
       "      <td>0.000000</td>\n",
       "      <td>0.000000</td>\n",
       "      <td>0.000000</td>\n",
       "    </tr>\n",
       "    <tr>\n",
       "      <th>25%</th>\n",
       "      <td>1125.750000</td>\n",
       "      <td>0.000000</td>\n",
       "      <td>0.0000</td>\n",
       "      <td>0.000000</td>\n",
       "      <td>0.0000</td>\n",
       "      <td>0.000000</td>\n",
       "      <td>0.000000</td>\n",
       "      <td>0.000000</td>\n",
       "      <td>0.000000</td>\n",
       "      <td>0.000000</td>\n",
       "      <td>0.000000</td>\n",
       "      <td>0.000000</td>\n",
       "    </tr>\n",
       "    <tr>\n",
       "      <th>50%</th>\n",
       "      <td>1250.500000</td>\n",
       "      <td>1.000000</td>\n",
       "      <td>1.0000</td>\n",
       "      <td>0.000000</td>\n",
       "      <td>0.0000</td>\n",
       "      <td>1.000000</td>\n",
       "      <td>0.500000</td>\n",
       "      <td>1.000000</td>\n",
       "      <td>0.000000</td>\n",
       "      <td>1.000000</td>\n",
       "      <td>1.000000</td>\n",
       "      <td>0.000000</td>\n",
       "    </tr>\n",
       "    <tr>\n",
       "      <th>75%</th>\n",
       "      <td>1375.250000</td>\n",
       "      <td>1.000000</td>\n",
       "      <td>1.0000</td>\n",
       "      <td>1.000000</td>\n",
       "      <td>1.0000</td>\n",
       "      <td>1.000000</td>\n",
       "      <td>1.000000</td>\n",
       "      <td>1.000000</td>\n",
       "      <td>1.000000</td>\n",
       "      <td>1.000000</td>\n",
       "      <td>1.000000</td>\n",
       "      <td>1.000000</td>\n",
       "    </tr>\n",
       "    <tr>\n",
       "      <th>max</th>\n",
       "      <td>1500.000000</td>\n",
       "      <td>1.000000</td>\n",
       "      <td>1.0000</td>\n",
       "      <td>1.000000</td>\n",
       "      <td>1.0000</td>\n",
       "      <td>1.000000</td>\n",
       "      <td>1.000000</td>\n",
       "      <td>1.000000</td>\n",
       "      <td>1.000000</td>\n",
       "      <td>1.000000</td>\n",
       "      <td>1.000000</td>\n",
       "      <td>1.000000</td>\n",
       "    </tr>\n",
       "  </tbody>\n",
       "</table>\n",
       "</div>"
      ],
      "text/plain": [
       "        SESSION_ID      IMAGES   REVIEWS         FAQ     SPECS    SHIPPING  \\\n",
       "count   500.000000  500.000000  500.0000  500.000000  500.0000  500.000000   \n",
       "mean   1250.500000    0.510000    0.5200    0.440000    0.4800    0.528000   \n",
       "std     144.481833    0.500401    0.5001    0.496884    0.5001    0.499715   \n",
       "min    1001.000000    0.000000    0.0000    0.000000    0.0000    0.000000   \n",
       "25%    1125.750000    0.000000    0.0000    0.000000    0.0000    0.000000   \n",
       "50%    1250.500000    1.000000    1.0000    0.000000    0.0000    1.000000   \n",
       "75%    1375.250000    1.000000    1.0000    1.000000    1.0000    1.000000   \n",
       "max    1500.000000    1.000000    1.0000    1.000000    1.0000    1.000000   \n",
       "\n",
       "       BOUGHT_TOGETHER  COMPARE_SIMILAR  VIEW_SIMILAR    WARRANTY  \\\n",
       "count       500.000000       500.000000    500.000000  500.000000   \n",
       "mean          0.500000         0.580000      0.468000    0.532000   \n",
       "std           0.500501         0.494053      0.499475    0.499475   \n",
       "min           0.000000         0.000000      0.000000    0.000000   \n",
       "25%           0.000000         0.000000      0.000000    0.000000   \n",
       "50%           0.500000         1.000000      0.000000    1.000000   \n",
       "75%           1.000000         1.000000      1.000000    1.000000   \n",
       "max           1.000000         1.000000      1.000000    1.000000   \n",
       "\n",
       "       SPONSORED_LINKS         BUY  \n",
       "count       500.000000  500.000000  \n",
       "mean          0.550000    0.370000  \n",
       "std           0.497992    0.483288  \n",
       "min           0.000000    0.000000  \n",
       "25%           0.000000    0.000000  \n",
       "50%           1.000000    0.000000  \n",
       "75%           1.000000    1.000000  \n",
       "max           1.000000    1.000000  "
      ]
     },
     "execution_count": 4,
     "metadata": {},
     "output_type": "execute_result"
    }
   ],
   "source": [
    "browsing.describe()"
   ]
  },
  {
   "cell_type": "code",
   "execution_count": 5,
   "metadata": {},
   "outputs": [
    {
     "data": {
      "text/html": [
       "<div>\n",
       "<style>\n",
       "    .dataframe thead tr:only-child th {\n",
       "        text-align: right;\n",
       "    }\n",
       "\n",
       "    .dataframe thead th {\n",
       "        text-align: left;\n",
       "    }\n",
       "\n",
       "    .dataframe tbody tr th {\n",
       "        vertical-align: top;\n",
       "    }\n",
       "</style>\n",
       "<table border=\"1\" class=\"dataframe\">\n",
       "  <thead>\n",
       "    <tr style=\"text-align: right;\">\n",
       "      <th></th>\n",
       "      <th>SESSION_ID</th>\n",
       "      <th>IMAGES</th>\n",
       "      <th>REVIEWS</th>\n",
       "      <th>FAQ</th>\n",
       "      <th>SPECS</th>\n",
       "      <th>SHIPPING</th>\n",
       "      <th>BOUGHT_TOGETHER</th>\n",
       "      <th>COMPARE_SIMILAR</th>\n",
       "      <th>VIEW_SIMILAR</th>\n",
       "      <th>WARRANTY</th>\n",
       "      <th>SPONSORED_LINKS</th>\n",
       "      <th>BUY</th>\n",
       "    </tr>\n",
       "  </thead>\n",
       "  <tbody>\n",
       "    <tr>\n",
       "      <th>0</th>\n",
       "      <td>1001</td>\n",
       "      <td>0</td>\n",
       "      <td>0</td>\n",
       "      <td>1</td>\n",
       "      <td>0</td>\n",
       "      <td>1</td>\n",
       "      <td>0</td>\n",
       "      <td>0</td>\n",
       "      <td>0</td>\n",
       "      <td>1</td>\n",
       "      <td>0</td>\n",
       "      <td>0</td>\n",
       "    </tr>\n",
       "    <tr>\n",
       "      <th>1</th>\n",
       "      <td>1002</td>\n",
       "      <td>0</td>\n",
       "      <td>1</td>\n",
       "      <td>1</td>\n",
       "      <td>0</td>\n",
       "      <td>0</td>\n",
       "      <td>0</td>\n",
       "      <td>0</td>\n",
       "      <td>0</td>\n",
       "      <td>0</td>\n",
       "      <td>1</td>\n",
       "      <td>0</td>\n",
       "    </tr>\n",
       "    <tr>\n",
       "      <th>2</th>\n",
       "      <td>1003</td>\n",
       "      <td>1</td>\n",
       "      <td>0</td>\n",
       "      <td>1</td>\n",
       "      <td>1</td>\n",
       "      <td>1</td>\n",
       "      <td>0</td>\n",
       "      <td>0</td>\n",
       "      <td>0</td>\n",
       "      <td>1</td>\n",
       "      <td>0</td>\n",
       "      <td>0</td>\n",
       "    </tr>\n",
       "    <tr>\n",
       "      <th>3</th>\n",
       "      <td>1004</td>\n",
       "      <td>1</td>\n",
       "      <td>0</td>\n",
       "      <td>0</td>\n",
       "      <td>0</td>\n",
       "      <td>1</td>\n",
       "      <td>1</td>\n",
       "      <td>1</td>\n",
       "      <td>0</td>\n",
       "      <td>0</td>\n",
       "      <td>0</td>\n",
       "      <td>0</td>\n",
       "    </tr>\n",
       "    <tr>\n",
       "      <th>4</th>\n",
       "      <td>1005</td>\n",
       "      <td>1</td>\n",
       "      <td>1</td>\n",
       "      <td>1</td>\n",
       "      <td>0</td>\n",
       "      <td>1</td>\n",
       "      <td>0</td>\n",
       "      <td>1</td>\n",
       "      <td>0</td>\n",
       "      <td>0</td>\n",
       "      <td>0</td>\n",
       "      <td>0</td>\n",
       "    </tr>\n",
       "  </tbody>\n",
       "</table>\n",
       "</div>"
      ],
      "text/plain": [
       "   SESSION_ID  IMAGES  REVIEWS  FAQ  SPECS  SHIPPING  BOUGHT_TOGETHER  \\\n",
       "0        1001       0        0    1      0         1                0   \n",
       "1        1002       0        1    1      0         0                0   \n",
       "2        1003       1        0    1      1         1                0   \n",
       "3        1004       1        0    0      0         1                1   \n",
       "4        1005       1        1    1      0         1                0   \n",
       "\n",
       "   COMPARE_SIMILAR  VIEW_SIMILAR  WARRANTY  SPONSORED_LINKS  BUY  \n",
       "0                0             0         1                0    0  \n",
       "1                0             0         0                1    0  \n",
       "2                0             0         1                0    0  \n",
       "3                1             0         0                0    0  \n",
       "4                1             0         0                0    0  "
      ]
     },
     "execution_count": 5,
     "metadata": {},
     "output_type": "execute_result"
    }
   ],
   "source": [
    "# Session_id is each session on the website, all binary results\n",
    "# Not much to do with EDA and distributions\n",
    "browsing.head()"
   ]
  },
  {
   "cell_type": "code",
   "execution_count": 6,
   "metadata": {},
   "outputs": [
    {
     "data": {
      "text/plain": [
       "SESSION_ID         0.026677\n",
       "IMAGES             0.046819\n",
       "REVIEWS            0.404628\n",
       "FAQ               -0.095136\n",
       "SPECS              0.009950\n",
       "SHIPPING          -0.022239\n",
       "BOUGHT_TOGETHER   -0.103562\n",
       "COMPARE_SIMILAR    0.190522\n",
       "VIEW_SIMILAR      -0.096137\n",
       "WARRANTY           0.179156\n",
       "SPONSORED_LINKS    0.110328\n",
       "BUY                1.000000\n",
       "Name: BUY, dtype: float64"
      ]
     },
     "execution_count": 6,
     "metadata": {},
     "output_type": "execute_result"
    }
   ],
   "source": [
    "# I will look at the correlation matrix of these variables\n",
    "browsing.corr()['BUY']"
   ]
  },
  {
   "cell_type": "code",
   "execution_count": 7,
   "metadata": {},
   "outputs": [],
   "source": [
    "# Will now remove the features with little correlation to BUY\n",
    "browse_feat = browsing[['REVIEWS','BOUGHT_TOGETHER','COMPARE_SIMILAR','WARRANTY','SPONSORED_LINKS']]\n",
    "target = browsing.BUY"
   ]
  },
  {
   "cell_type": "markdown",
   "metadata": {},
   "source": [
    "# Build and Train the Model"
   ]
  },
  {
   "cell_type": "code",
   "execution_count": 8,
   "metadata": {},
   "outputs": [],
   "source": [
    "# Import libraries\n",
    "from sklearn.model_selection  import train_test_split\n",
    "from sklearn.tree import DecisionTreeClassifier\n",
    "from sklearn.metrics import classification_report,confusion_matrix\n",
    "import sklearn.metrics\n",
    "from sklearn.naive_bayes import GaussianNB"
   ]
  },
  {
   "cell_type": "code",
   "execution_count": 9,
   "metadata": {
    "collapsed": true
   },
   "outputs": [],
   "source": [
    "# Split Train and Test\n",
    "X_train, X_test, y_train, y_test = train_test_split(browse_feat, target, test_size=0.30, random_state=123)"
   ]
  },
  {
   "cell_type": "code",
   "execution_count": 10,
   "metadata": {
    "collapsed": true
   },
   "outputs": [],
   "source": [
    "# Train and predict the model\n",
    "model=GaussianNB()\n",
    "model=model.fit(X_train,y_train)\n",
    "\n",
    "predict = model.predict(X_test)"
   ]
  },
  {
   "cell_type": "code",
   "execution_count": 11,
   "metadata": {},
   "outputs": [
    {
     "name": "stdout",
     "output_type": "stream",
     "text": [
      "[[80 20]\n",
      " [20 30]]\n",
      "             precision    recall  f1-score   support\n",
      "\n",
      "          0       0.80      0.80      0.80       100\n",
      "          1       0.60      0.60      0.60        50\n",
      "\n",
      "avg / total       0.73      0.73      0.73       150\n",
      "\n"
     ]
    }
   ],
   "source": [
    "print(confusion_matrix(y_test,predict))\n",
    "print(classification_report(y_test,predict))"
   ]
  },
  {
   "cell_type": "markdown",
   "metadata": {},
   "source": [
    "***\n",
    "**Not a high accuracy score on this one but could be to the small dataset. Possibility to predict if a customer will buy a product based on their browsing on the website.**"
   ]
  },
  {
   "cell_type": "code",
   "execution_count": null,
   "metadata": {
    "collapsed": true
   },
   "outputs": [],
   "source": []
  }
 ],
 "metadata": {
  "kernelspec": {
   "display_name": "Python 3",
   "language": "python",
   "name": "python3"
  },
  "language_info": {
   "codemirror_mode": {
    "name": "ipython",
    "version": 3
   },
   "file_extension": ".py",
   "mimetype": "text/x-python",
   "name": "python",
   "nbconvert_exporter": "python",
   "pygments_lexer": "ipython3",
   "version": "3.6.1"
  }
 },
 "nbformat": 4,
 "nbformat_minor": 2
}

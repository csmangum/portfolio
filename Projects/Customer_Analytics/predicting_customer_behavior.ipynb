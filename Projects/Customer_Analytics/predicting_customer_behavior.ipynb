{
 "cells": [
  {
   "cell_type": "markdown",
   "metadata": {},
   "source": [
    "# Customer Analytics Project"
   ]
  },
  {
   "cell_type": "markdown",
   "metadata": {},
   "source": [
    "## Background:\n",
    "Simulated data downloaded from the LinkedIn course called \"Predictive Customer Analytics\".\n",
    "\n",
    "\n",
    "### *Primary Question*\n",
    "\n",
    "*Can we predict customer behavior?*\n",
    "\n",
    "\n",
    "## Outline:\n",
    "* Part 1 - Customer Propensity\n",
    "* Part 2 - Predict Customer Lifetime Value (CLV)\n",
    "* Part 3 - Group Customer Issues\n",
    "\n",
    "***"
   ]
  },
  {
   "cell_type": "markdown",
   "metadata": {},
   "source": [
    "# PART 1: CUSTOMER PROPENSITY"
   ]
  },
  {
   "cell_type": "markdown",
   "metadata": {},
   "source": [
    "## Import libraries and load data"
   ]
  },
  {
   "cell_type": "code",
   "execution_count": 1,
   "metadata": {
    "collapsed": true
   },
   "outputs": [],
   "source": [
    "import pandas as pd\n",
    "import numpy as np\n",
    "import seaborn as sns\n",
    "import matplotlib.pylab as plt\n",
    "%matplotlib inline"
   ]
  },
  {
   "cell_type": "code",
   "execution_count": 2,
   "metadata": {
    "collapsed": true
   },
   "outputs": [],
   "source": [
    "browsing = pd.read_csv('data/browsing_data.csv')"
   ]
  },
  {
   "cell_type": "markdown",
   "metadata": {},
   "source": [
    "## Explore the Data"
   ]
  },
  {
   "cell_type": "code",
   "execution_count": 3,
   "metadata": {},
   "outputs": [
    {
     "name": "stdout",
     "output_type": "stream",
     "text": [
      "<class 'pandas.core.frame.DataFrame'>\n",
      "RangeIndex: 500 entries, 0 to 499\n",
      "Data columns (total 12 columns):\n",
      "SESSION_ID         500 non-null int64\n",
      "IMAGES             500 non-null int64\n",
      "REVIEWS            500 non-null int64\n",
      "FAQ                500 non-null int64\n",
      "SPECS              500 non-null int64\n",
      "SHIPPING           500 non-null int64\n",
      "BOUGHT_TOGETHER    500 non-null int64\n",
      "COMPARE_SIMILAR    500 non-null int64\n",
      "VIEW_SIMILAR       500 non-null int64\n",
      "WARRANTY           500 non-null int64\n",
      "SPONSORED_LINKS    500 non-null int64\n",
      "BUY                500 non-null int64\n",
      "dtypes: int64(12)\n",
      "memory usage: 47.0 KB\n"
     ]
    }
   ],
   "source": [
    "# No missing data and all integers wih the target variable \"BUY\"\n",
    "browsing.info()"
   ]
  },
  {
   "cell_type": "code",
   "execution_count": 4,
   "metadata": {},
   "outputs": [
    {
     "data": {
      "text/html": [
       "<div>\n",
       "<style>\n",
       "    .dataframe thead tr:only-child th {\n",
       "        text-align: right;\n",
       "    }\n",
       "\n",
       "    .dataframe thead th {\n",
       "        text-align: left;\n",
       "    }\n",
       "\n",
       "    .dataframe tbody tr th {\n",
       "        vertical-align: top;\n",
       "    }\n",
       "</style>\n",
       "<table border=\"1\" class=\"dataframe\">\n",
       "  <thead>\n",
       "    <tr style=\"text-align: right;\">\n",
       "      <th></th>\n",
       "      <th>SESSION_ID</th>\n",
       "      <th>IMAGES</th>\n",
       "      <th>REVIEWS</th>\n",
       "      <th>FAQ</th>\n",
       "      <th>SPECS</th>\n",
       "      <th>SHIPPING</th>\n",
       "      <th>BOUGHT_TOGETHER</th>\n",
       "      <th>COMPARE_SIMILAR</th>\n",
       "      <th>VIEW_SIMILAR</th>\n",
       "      <th>WARRANTY</th>\n",
       "      <th>SPONSORED_LINKS</th>\n",
       "      <th>BUY</th>\n",
       "    </tr>\n",
       "  </thead>\n",
       "  <tbody>\n",
       "    <tr>\n",
       "      <th>count</th>\n",
       "      <td>500.000000</td>\n",
       "      <td>500.000000</td>\n",
       "      <td>500.0000</td>\n",
       "      <td>500.000000</td>\n",
       "      <td>500.0000</td>\n",
       "      <td>500.000000</td>\n",
       "      <td>500.000000</td>\n",
       "      <td>500.000000</td>\n",
       "      <td>500.000000</td>\n",
       "      <td>500.000000</td>\n",
       "      <td>500.000000</td>\n",
       "      <td>500.000000</td>\n",
       "    </tr>\n",
       "    <tr>\n",
       "      <th>mean</th>\n",
       "      <td>1250.500000</td>\n",
       "      <td>0.510000</td>\n",
       "      <td>0.5200</td>\n",
       "      <td>0.440000</td>\n",
       "      <td>0.4800</td>\n",
       "      <td>0.528000</td>\n",
       "      <td>0.500000</td>\n",
       "      <td>0.580000</td>\n",
       "      <td>0.468000</td>\n",
       "      <td>0.532000</td>\n",
       "      <td>0.550000</td>\n",
       "      <td>0.370000</td>\n",
       "    </tr>\n",
       "    <tr>\n",
       "      <th>std</th>\n",
       "      <td>144.481833</td>\n",
       "      <td>0.500401</td>\n",
       "      <td>0.5001</td>\n",
       "      <td>0.496884</td>\n",
       "      <td>0.5001</td>\n",
       "      <td>0.499715</td>\n",
       "      <td>0.500501</td>\n",
       "      <td>0.494053</td>\n",
       "      <td>0.499475</td>\n",
       "      <td>0.499475</td>\n",
       "      <td>0.497992</td>\n",
       "      <td>0.483288</td>\n",
       "    </tr>\n",
       "    <tr>\n",
       "      <th>min</th>\n",
       "      <td>1001.000000</td>\n",
       "      <td>0.000000</td>\n",
       "      <td>0.0000</td>\n",
       "      <td>0.000000</td>\n",
       "      <td>0.0000</td>\n",
       "      <td>0.000000</td>\n",
       "      <td>0.000000</td>\n",
       "      <td>0.000000</td>\n",
       "      <td>0.000000</td>\n",
       "      <td>0.000000</td>\n",
       "      <td>0.000000</td>\n",
       "      <td>0.000000</td>\n",
       "    </tr>\n",
       "    <tr>\n",
       "      <th>25%</th>\n",
       "      <td>1125.750000</td>\n",
       "      <td>0.000000</td>\n",
       "      <td>0.0000</td>\n",
       "      <td>0.000000</td>\n",
       "      <td>0.0000</td>\n",
       "      <td>0.000000</td>\n",
       "      <td>0.000000</td>\n",
       "      <td>0.000000</td>\n",
       "      <td>0.000000</td>\n",
       "      <td>0.000000</td>\n",
       "      <td>0.000000</td>\n",
       "      <td>0.000000</td>\n",
       "    </tr>\n",
       "    <tr>\n",
       "      <th>50%</th>\n",
       "      <td>1250.500000</td>\n",
       "      <td>1.000000</td>\n",
       "      <td>1.0000</td>\n",
       "      <td>0.000000</td>\n",
       "      <td>0.0000</td>\n",
       "      <td>1.000000</td>\n",
       "      <td>0.500000</td>\n",
       "      <td>1.000000</td>\n",
       "      <td>0.000000</td>\n",
       "      <td>1.000000</td>\n",
       "      <td>1.000000</td>\n",
       "      <td>0.000000</td>\n",
       "    </tr>\n",
       "    <tr>\n",
       "      <th>75%</th>\n",
       "      <td>1375.250000</td>\n",
       "      <td>1.000000</td>\n",
       "      <td>1.0000</td>\n",
       "      <td>1.000000</td>\n",
       "      <td>1.0000</td>\n",
       "      <td>1.000000</td>\n",
       "      <td>1.000000</td>\n",
       "      <td>1.000000</td>\n",
       "      <td>1.000000</td>\n",
       "      <td>1.000000</td>\n",
       "      <td>1.000000</td>\n",
       "      <td>1.000000</td>\n",
       "    </tr>\n",
       "    <tr>\n",
       "      <th>max</th>\n",
       "      <td>1500.000000</td>\n",
       "      <td>1.000000</td>\n",
       "      <td>1.0000</td>\n",
       "      <td>1.000000</td>\n",
       "      <td>1.0000</td>\n",
       "      <td>1.000000</td>\n",
       "      <td>1.000000</td>\n",
       "      <td>1.000000</td>\n",
       "      <td>1.000000</td>\n",
       "      <td>1.000000</td>\n",
       "      <td>1.000000</td>\n",
       "      <td>1.000000</td>\n",
       "    </tr>\n",
       "  </tbody>\n",
       "</table>\n",
       "</div>"
      ],
      "text/plain": [
       "        SESSION_ID      IMAGES   REVIEWS         FAQ     SPECS    SHIPPING  \\\n",
       "count   500.000000  500.000000  500.0000  500.000000  500.0000  500.000000   \n",
       "mean   1250.500000    0.510000    0.5200    0.440000    0.4800    0.528000   \n",
       "std     144.481833    0.500401    0.5001    0.496884    0.5001    0.499715   \n",
       "min    1001.000000    0.000000    0.0000    0.000000    0.0000    0.000000   \n",
       "25%    1125.750000    0.000000    0.0000    0.000000    0.0000    0.000000   \n",
       "50%    1250.500000    1.000000    1.0000    0.000000    0.0000    1.000000   \n",
       "75%    1375.250000    1.000000    1.0000    1.000000    1.0000    1.000000   \n",
       "max    1500.000000    1.000000    1.0000    1.000000    1.0000    1.000000   \n",
       "\n",
       "       BOUGHT_TOGETHER  COMPARE_SIMILAR  VIEW_SIMILAR    WARRANTY  \\\n",
       "count       500.000000       500.000000    500.000000  500.000000   \n",
       "mean          0.500000         0.580000      0.468000    0.532000   \n",
       "std           0.500501         0.494053      0.499475    0.499475   \n",
       "min           0.000000         0.000000      0.000000    0.000000   \n",
       "25%           0.000000         0.000000      0.000000    0.000000   \n",
       "50%           0.500000         1.000000      0.000000    1.000000   \n",
       "75%           1.000000         1.000000      1.000000    1.000000   \n",
       "max           1.000000         1.000000      1.000000    1.000000   \n",
       "\n",
       "       SPONSORED_LINKS         BUY  \n",
       "count       500.000000  500.000000  \n",
       "mean          0.550000    0.370000  \n",
       "std           0.497992    0.483288  \n",
       "min           0.000000    0.000000  \n",
       "25%           0.000000    0.000000  \n",
       "50%           1.000000    0.000000  \n",
       "75%           1.000000    1.000000  \n",
       "max           1.000000    1.000000  "
      ]
     },
     "execution_count": 4,
     "metadata": {},
     "output_type": "execute_result"
    }
   ],
   "source": [
    "browsing.describe()"
   ]
  },
  {
   "cell_type": "code",
   "execution_count": 5,
   "metadata": {},
   "outputs": [
    {
     "data": {
      "text/html": [
       "<div>\n",
       "<style>\n",
       "    .dataframe thead tr:only-child th {\n",
       "        text-align: right;\n",
       "    }\n",
       "\n",
       "    .dataframe thead th {\n",
       "        text-align: left;\n",
       "    }\n",
       "\n",
       "    .dataframe tbody tr th {\n",
       "        vertical-align: top;\n",
       "    }\n",
       "</style>\n",
       "<table border=\"1\" class=\"dataframe\">\n",
       "  <thead>\n",
       "    <tr style=\"text-align: right;\">\n",
       "      <th></th>\n",
       "      <th>SESSION_ID</th>\n",
       "      <th>IMAGES</th>\n",
       "      <th>REVIEWS</th>\n",
       "      <th>FAQ</th>\n",
       "      <th>SPECS</th>\n",
       "      <th>SHIPPING</th>\n",
       "      <th>BOUGHT_TOGETHER</th>\n",
       "      <th>COMPARE_SIMILAR</th>\n",
       "      <th>VIEW_SIMILAR</th>\n",
       "      <th>WARRANTY</th>\n",
       "      <th>SPONSORED_LINKS</th>\n",
       "      <th>BUY</th>\n",
       "    </tr>\n",
       "  </thead>\n",
       "  <tbody>\n",
       "    <tr>\n",
       "      <th>0</th>\n",
       "      <td>1001</td>\n",
       "      <td>0</td>\n",
       "      <td>0</td>\n",
       "      <td>1</td>\n",
       "      <td>0</td>\n",
       "      <td>1</td>\n",
       "      <td>0</td>\n",
       "      <td>0</td>\n",
       "      <td>0</td>\n",
       "      <td>1</td>\n",
       "      <td>0</td>\n",
       "      <td>0</td>\n",
       "    </tr>\n",
       "    <tr>\n",
       "      <th>1</th>\n",
       "      <td>1002</td>\n",
       "      <td>0</td>\n",
       "      <td>1</td>\n",
       "      <td>1</td>\n",
       "      <td>0</td>\n",
       "      <td>0</td>\n",
       "      <td>0</td>\n",
       "      <td>0</td>\n",
       "      <td>0</td>\n",
       "      <td>0</td>\n",
       "      <td>1</td>\n",
       "      <td>0</td>\n",
       "    </tr>\n",
       "    <tr>\n",
       "      <th>2</th>\n",
       "      <td>1003</td>\n",
       "      <td>1</td>\n",
       "      <td>0</td>\n",
       "      <td>1</td>\n",
       "      <td>1</td>\n",
       "      <td>1</td>\n",
       "      <td>0</td>\n",
       "      <td>0</td>\n",
       "      <td>0</td>\n",
       "      <td>1</td>\n",
       "      <td>0</td>\n",
       "      <td>0</td>\n",
       "    </tr>\n",
       "    <tr>\n",
       "      <th>3</th>\n",
       "      <td>1004</td>\n",
       "      <td>1</td>\n",
       "      <td>0</td>\n",
       "      <td>0</td>\n",
       "      <td>0</td>\n",
       "      <td>1</td>\n",
       "      <td>1</td>\n",
       "      <td>1</td>\n",
       "      <td>0</td>\n",
       "      <td>0</td>\n",
       "      <td>0</td>\n",
       "      <td>0</td>\n",
       "    </tr>\n",
       "    <tr>\n",
       "      <th>4</th>\n",
       "      <td>1005</td>\n",
       "      <td>1</td>\n",
       "      <td>1</td>\n",
       "      <td>1</td>\n",
       "      <td>0</td>\n",
       "      <td>1</td>\n",
       "      <td>0</td>\n",
       "      <td>1</td>\n",
       "      <td>0</td>\n",
       "      <td>0</td>\n",
       "      <td>0</td>\n",
       "      <td>0</td>\n",
       "    </tr>\n",
       "  </tbody>\n",
       "</table>\n",
       "</div>"
      ],
      "text/plain": [
       "   SESSION_ID  IMAGES  REVIEWS  FAQ  SPECS  SHIPPING  BOUGHT_TOGETHER  \\\n",
       "0        1001       0        0    1      0         1                0   \n",
       "1        1002       0        1    1      0         0                0   \n",
       "2        1003       1        0    1      1         1                0   \n",
       "3        1004       1        0    0      0         1                1   \n",
       "4        1005       1        1    1      0         1                0   \n",
       "\n",
       "   COMPARE_SIMILAR  VIEW_SIMILAR  WARRANTY  SPONSORED_LINKS  BUY  \n",
       "0                0             0         1                0    0  \n",
       "1                0             0         0                1    0  \n",
       "2                0             0         1                0    0  \n",
       "3                1             0         0                0    0  \n",
       "4                1             0         0                0    0  "
      ]
     },
     "execution_count": 5,
     "metadata": {},
     "output_type": "execute_result"
    }
   ],
   "source": [
    "# Session_id is each session on the website, all binary results\n",
    "# Not much to do with EDA and distributions\n",
    "browsing.head()"
   ]
  },
  {
   "cell_type": "code",
   "execution_count": 6,
   "metadata": {},
   "outputs": [
    {
     "data": {
      "text/plain": [
       "SESSION_ID         0.026677\n",
       "IMAGES             0.046819\n",
       "REVIEWS            0.404628\n",
       "FAQ               -0.095136\n",
       "SPECS              0.009950\n",
       "SHIPPING          -0.022239\n",
       "BOUGHT_TOGETHER   -0.103562\n",
       "COMPARE_SIMILAR    0.190522\n",
       "VIEW_SIMILAR      -0.096137\n",
       "WARRANTY           0.179156\n",
       "SPONSORED_LINKS    0.110328\n",
       "BUY                1.000000\n",
       "Name: BUY, dtype: float64"
      ]
     },
     "execution_count": 6,
     "metadata": {},
     "output_type": "execute_result"
    }
   ],
   "source": [
    "# I will look at the correlation matrix of these variables\n",
    "browsing.corr()['BUY']"
   ]
  },
  {
   "cell_type": "code",
   "execution_count": 7,
   "metadata": {
    "collapsed": true
   },
   "outputs": [],
   "source": [
    "# Will now remove the features with little correlation to BUY\n",
    "browse_feat = browsing[['REVIEWS','BOUGHT_TOGETHER','COMPARE_SIMILAR','WARRANTY','SPONSORED_LINKS']]\n",
    "target = browsing.BUY"
   ]
  },
  {
   "cell_type": "markdown",
   "metadata": {},
   "source": [
    "## Build and Train the Model"
   ]
  },
  {
   "cell_type": "code",
   "execution_count": 8,
   "metadata": {
    "collapsed": true
   },
   "outputs": [],
   "source": [
    "# Import libraries\n",
    "from sklearn.model_selection  import train_test_split\n",
    "from sklearn.tree import DecisionTreeClassifier\n",
    "from sklearn.metrics import classification_report,confusion_matrix\n",
    "import sklearn.metrics\n",
    "from sklearn.naive_bayes import GaussianNB"
   ]
  },
  {
   "cell_type": "code",
   "execution_count": 9,
   "metadata": {
    "collapsed": true
   },
   "outputs": [],
   "source": [
    "# Split Train and Test\n",
    "X_train, X_test, y_train, y_test = train_test_split(browse_feat, target, test_size=0.30, random_state=123)"
   ]
  },
  {
   "cell_type": "code",
   "execution_count": 10,
   "metadata": {
    "collapsed": true
   },
   "outputs": [],
   "source": [
    "# Train and predict the model\n",
    "model=GaussianNB()\n",
    "model=model.fit(X_train,y_train)\n",
    "\n",
    "predict = model.predict(X_test)"
   ]
  },
  {
   "cell_type": "code",
   "execution_count": 11,
   "metadata": {},
   "outputs": [
    {
     "name": "stdout",
     "output_type": "stream",
     "text": [
      "[[80 20]\n",
      " [20 30]]\n",
      "             precision    recall  f1-score   support\n",
      "\n",
      "          0       0.80      0.80      0.80       100\n",
      "          1       0.60      0.60      0.60        50\n",
      "\n",
      "avg / total       0.73      0.73      0.73       150\n",
      "\n"
     ]
    }
   ],
   "source": [
    "print(confusion_matrix(y_test,predict))\n",
    "print(classification_report(y_test,predict))"
   ]
  },
  {
   "cell_type": "markdown",
   "metadata": {},
   "source": [
    "***\n",
    "**Not a high accuracy score on this one but could be to the small dataset. Possibility to predict if a customer will buy a product based on their browsing on the website.**"
   ]
  },
  {
   "cell_type": "markdown",
   "metadata": {
    "collapsed": true
   },
   "source": [
    "# PART 2: CUSTOMER LIFETIME VALUE (CLV)"
   ]
  },
  {
   "cell_type": "markdown",
   "metadata": {
    "collapsed": true
   },
   "source": [
    "## Import libraries and data"
   ]
  },
  {
   "cell_type": "code",
   "execution_count": 12,
   "metadata": {
    "collapsed": true
   },
   "outputs": [],
   "source": [
    "import os\n",
    "from sklearn.model_selection  import train_test_split\n",
    "from sklearn.linear_model import LinearRegression\n",
    "import sklearn.metrics"
   ]
  },
  {
   "cell_type": "code",
   "execution_count": 13,
   "metadata": {},
   "outputs": [
    {
     "data": {
      "text/html": [
       "<div>\n",
       "<style>\n",
       "    .dataframe thead tr:only-child th {\n",
       "        text-align: right;\n",
       "    }\n",
       "\n",
       "    .dataframe thead th {\n",
       "        text-align: left;\n",
       "    }\n",
       "\n",
       "    .dataframe tbody tr th {\n",
       "        vertical-align: top;\n",
       "    }\n",
       "</style>\n",
       "<table border=\"1\" class=\"dataframe\">\n",
       "  <thead>\n",
       "    <tr style=\"text-align: right;\">\n",
       "      <th></th>\n",
       "      <th>CUST_ID</th>\n",
       "      <th>MONTH_1</th>\n",
       "      <th>MONTH_2</th>\n",
       "      <th>MONTH_3</th>\n",
       "      <th>MONTH_4</th>\n",
       "      <th>MONTH_5</th>\n",
       "      <th>MONTH_6</th>\n",
       "      <th>CLV</th>\n",
       "    </tr>\n",
       "  </thead>\n",
       "  <tbody>\n",
       "    <tr>\n",
       "      <th>count</th>\n",
       "      <td>100.000000</td>\n",
       "      <td>100.00000</td>\n",
       "      <td>100.000000</td>\n",
       "      <td>100.000000</td>\n",
       "      <td>100.000000</td>\n",
       "      <td>100.000000</td>\n",
       "      <td>100.000000</td>\n",
       "      <td>100.000000</td>\n",
       "    </tr>\n",
       "    <tr>\n",
       "      <th>mean</th>\n",
       "      <td>1050.500000</td>\n",
       "      <td>113.25000</td>\n",
       "      <td>115.750000</td>\n",
       "      <td>106.250000</td>\n",
       "      <td>106.750000</td>\n",
       "      <td>106.250000</td>\n",
       "      <td>108.500000</td>\n",
       "      <td>9421.190000</td>\n",
       "    </tr>\n",
       "    <tr>\n",
       "      <th>std</th>\n",
       "      <td>29.011492</td>\n",
       "      <td>55.32902</td>\n",
       "      <td>64.221739</td>\n",
       "      <td>63.601406</td>\n",
       "      <td>62.649317</td>\n",
       "      <td>59.816111</td>\n",
       "      <td>66.021499</td>\n",
       "      <td>2664.443174</td>\n",
       "    </tr>\n",
       "    <tr>\n",
       "      <th>min</th>\n",
       "      <td>1001.000000</td>\n",
       "      <td>25.00000</td>\n",
       "      <td>0.000000</td>\n",
       "      <td>0.000000</td>\n",
       "      <td>0.000000</td>\n",
       "      <td>0.000000</td>\n",
       "      <td>0.000000</td>\n",
       "      <td>4125.000000</td>\n",
       "    </tr>\n",
       "    <tr>\n",
       "      <th>25%</th>\n",
       "      <td>1025.750000</td>\n",
       "      <td>75.00000</td>\n",
       "      <td>75.000000</td>\n",
       "      <td>50.000000</td>\n",
       "      <td>50.000000</td>\n",
       "      <td>50.000000</td>\n",
       "      <td>50.000000</td>\n",
       "      <td>7816.000000</td>\n",
       "    </tr>\n",
       "    <tr>\n",
       "      <th>50%</th>\n",
       "      <td>1050.500000</td>\n",
       "      <td>100.00000</td>\n",
       "      <td>125.000000</td>\n",
       "      <td>100.000000</td>\n",
       "      <td>100.000000</td>\n",
       "      <td>100.000000</td>\n",
       "      <td>100.000000</td>\n",
       "      <td>9344.000000</td>\n",
       "    </tr>\n",
       "    <tr>\n",
       "      <th>75%</th>\n",
       "      <td>1075.250000</td>\n",
       "      <td>150.00000</td>\n",
       "      <td>175.000000</td>\n",
       "      <td>175.000000</td>\n",
       "      <td>150.000000</td>\n",
       "      <td>156.250000</td>\n",
       "      <td>175.000000</td>\n",
       "      <td>10719.250000</td>\n",
       "    </tr>\n",
       "    <tr>\n",
       "      <th>max</th>\n",
       "      <td>1100.000000</td>\n",
       "      <td>200.00000</td>\n",
       "      <td>200.000000</td>\n",
       "      <td>200.000000</td>\n",
       "      <td>200.000000</td>\n",
       "      <td>200.000000</td>\n",
       "      <td>200.000000</td>\n",
       "      <td>17100.000000</td>\n",
       "    </tr>\n",
       "  </tbody>\n",
       "</table>\n",
       "</div>"
      ],
      "text/plain": [
       "           CUST_ID    MONTH_1     MONTH_2     MONTH_3     MONTH_4     MONTH_5  \\\n",
       "count   100.000000  100.00000  100.000000  100.000000  100.000000  100.000000   \n",
       "mean   1050.500000  113.25000  115.750000  106.250000  106.750000  106.250000   \n",
       "std      29.011492   55.32902   64.221739   63.601406   62.649317   59.816111   \n",
       "min    1001.000000   25.00000    0.000000    0.000000    0.000000    0.000000   \n",
       "25%    1025.750000   75.00000   75.000000   50.000000   50.000000   50.000000   \n",
       "50%    1050.500000  100.00000  125.000000  100.000000  100.000000  100.000000   \n",
       "75%    1075.250000  150.00000  175.000000  175.000000  150.000000  156.250000   \n",
       "max    1100.000000  200.00000  200.000000  200.000000  200.000000  200.000000   \n",
       "\n",
       "          MONTH_6           CLV  \n",
       "count  100.000000    100.000000  \n",
       "mean   108.500000   9421.190000  \n",
       "std     66.021499   2664.443174  \n",
       "min      0.000000   4125.000000  \n",
       "25%     50.000000   7816.000000  \n",
       "50%    100.000000   9344.000000  \n",
       "75%    175.000000  10719.250000  \n",
       "max    200.000000  17100.000000  "
      ]
     },
     "execution_count": 13,
     "metadata": {},
     "output_type": "execute_result"
    }
   ],
   "source": [
    "data = pd.read_csv(\"data/history.csv\")\n",
    "\n",
    "data.describe()"
   ]
  },
  {
   "cell_type": "code",
   "execution_count": 14,
   "metadata": {},
   "outputs": [
    {
     "name": "stdout",
     "output_type": "stream",
     "text": [
      "<class 'pandas.core.frame.DataFrame'>\n",
      "RangeIndex: 100 entries, 0 to 99\n",
      "Data columns (total 8 columns):\n",
      "CUST_ID    100 non-null int64\n",
      "MONTH_1    100 non-null int64\n",
      "MONTH_2    100 non-null int64\n",
      "MONTH_3    100 non-null int64\n",
      "MONTH_4    100 non-null int64\n",
      "MONTH_5    100 non-null int64\n",
      "MONTH_6    100 non-null int64\n",
      "CLV        100 non-null int64\n",
      "dtypes: int64(8)\n",
      "memory usage: 6.3 KB\n"
     ]
    }
   ],
   "source": [
    "data.info()"
   ]
  },
  {
   "cell_type": "code",
   "execution_count": 15,
   "metadata": {},
   "outputs": [
    {
     "data": {
      "text/html": [
       "<div>\n",
       "<style>\n",
       "    .dataframe thead tr:only-child th {\n",
       "        text-align: right;\n",
       "    }\n",
       "\n",
       "    .dataframe thead th {\n",
       "        text-align: left;\n",
       "    }\n",
       "\n",
       "    .dataframe tbody tr th {\n",
       "        vertical-align: top;\n",
       "    }\n",
       "</style>\n",
       "<table border=\"1\" class=\"dataframe\">\n",
       "  <thead>\n",
       "    <tr style=\"text-align: right;\">\n",
       "      <th></th>\n",
       "      <th>MONTH_1</th>\n",
       "      <th>MONTH_2</th>\n",
       "      <th>MONTH_3</th>\n",
       "      <th>MONTH_4</th>\n",
       "      <th>MONTH_5</th>\n",
       "      <th>MONTH_6</th>\n",
       "      <th>CLV</th>\n",
       "    </tr>\n",
       "  </thead>\n",
       "  <tbody>\n",
       "    <tr>\n",
       "      <th>0</th>\n",
       "      <td>150</td>\n",
       "      <td>75</td>\n",
       "      <td>200</td>\n",
       "      <td>100</td>\n",
       "      <td>175</td>\n",
       "      <td>75</td>\n",
       "      <td>13125</td>\n",
       "    </tr>\n",
       "    <tr>\n",
       "      <th>1</th>\n",
       "      <td>25</td>\n",
       "      <td>50</td>\n",
       "      <td>150</td>\n",
       "      <td>200</td>\n",
       "      <td>175</td>\n",
       "      <td>200</td>\n",
       "      <td>9375</td>\n",
       "    </tr>\n",
       "    <tr>\n",
       "      <th>2</th>\n",
       "      <td>75</td>\n",
       "      <td>150</td>\n",
       "      <td>0</td>\n",
       "      <td>25</td>\n",
       "      <td>75</td>\n",
       "      <td>25</td>\n",
       "      <td>5156</td>\n",
       "    </tr>\n",
       "    <tr>\n",
       "      <th>3</th>\n",
       "      <td>200</td>\n",
       "      <td>200</td>\n",
       "      <td>25</td>\n",
       "      <td>100</td>\n",
       "      <td>75</td>\n",
       "      <td>150</td>\n",
       "      <td>11756</td>\n",
       "    </tr>\n",
       "    <tr>\n",
       "      <th>4</th>\n",
       "      <td>200</td>\n",
       "      <td>200</td>\n",
       "      <td>125</td>\n",
       "      <td>75</td>\n",
       "      <td>175</td>\n",
       "      <td>200</td>\n",
       "      <td>15525</td>\n",
       "    </tr>\n",
       "  </tbody>\n",
       "</table>\n",
       "</div>"
      ],
      "text/plain": [
       "   MONTH_1  MONTH_2  MONTH_3  MONTH_4  MONTH_5  MONTH_6    CLV\n",
       "0      150       75      200      100      175       75  13125\n",
       "1       25       50      150      200      175      200   9375\n",
       "2       75      150        0       25       75       25   5156\n",
       "3      200      200       25      100       75      150  11756\n",
       "4      200      200      125       75      175      200  15525"
      ]
     },
     "execution_count": 15,
     "metadata": {},
     "output_type": "execute_result"
    }
   ],
   "source": [
    "data.drop('CUST_ID',axis=1,inplace=True)\n",
    "data.head()"
   ]
  },
  {
   "cell_type": "code",
   "execution_count": 16,
   "metadata": {},
   "outputs": [
    {
     "data": {
      "text/plain": [
       "MONTH_1    0.734122\n",
       "MONTH_2    0.250397\n",
       "MONTH_3    0.371742\n",
       "MONTH_4    0.297408\n",
       "MONTH_5    0.376775\n",
       "MONTH_6    0.327064\n",
       "CLV        1.000000\n",
       "Name: CLV, dtype: float64"
      ]
     },
     "execution_count": 16,
     "metadata": {},
     "output_type": "execute_result"
    }
   ],
   "source": [
    "data.corr()['CLV']"
   ]
  },
  {
   "cell_type": "code",
   "execution_count": 17,
   "metadata": {
    "collapsed": true
   },
   "outputs": [],
   "source": [
    "features = data.drop(\"CLV\",axis=1)\n",
    "target = data.CLV\n",
    "\n",
    "X_train, X_test, y_train, y_test = train_test_split(features, \n",
    "            target, test_size=0.30, random_state=123)"
   ]
  },
  {
   "cell_type": "markdown",
   "metadata": {
    "collapsed": true
   },
   "source": [
    "## Build and train the model"
   ]
  },
  {
   "cell_type": "code",
   "execution_count": 18,
   "metadata": {},
   "outputs": [
    {
     "name": "stdout",
     "output_type": "stream",
     "text": [
      "Coefficients: \n",
      " [ 33.89477132  10.72663147  15.46401167  10.78217938   7.75768374\n",
      "   5.17367253]\n",
      "Intercept: 99.9702115489\n"
     ]
    },
    {
     "data": {
      "text/plain": [
       "0.9340373735854488"
      ]
     },
     "execution_count": 18,
     "metadata": {},
     "output_type": "execute_result"
    }
   ],
   "source": [
    "clv_model = LinearRegression()\n",
    "clv_model.fit(X_train,y_train)\n",
    "predict = clv_model.predict(X_test)\n",
    "print(\"Coefficients: \\n\", clv_model.coef_)\n",
    "print(\"Intercept:\", clv_model.intercept_)\n",
    "sklearn.metrics.r2_score(y_test, predict)"
   ]
  },
  {
   "cell_type": "markdown",
   "metadata": {},
   "source": [
    "** 93% accuracy on our model to predict customer lifetime value **"
   ]
  },
  {
   "cell_type": "markdown",
   "metadata": {},
   "source": [
    "# PART 3: CUSTOMER ISSUES"
   ]
  },
  {
   "cell_type": "markdown",
   "metadata": {
    "collapsed": true
   },
   "source": [
    "## Import libraries and data"
   ]
  },
  {
   "cell_type": "code",
   "execution_count": 19,
   "metadata": {},
   "outputs": [
    {
     "name": "stdout",
     "output_type": "stream",
     "text": [
      "<class 'pandas.core.frame.DataFrame'>\n",
      "RangeIndex: 20 entries, 0 to 19\n",
      "Data columns (total 6 columns):\n",
      "PROBLEM_TYPE            20 non-null object\n",
      "COUNT                   20 non-null int64\n",
      "AVG_CALLS_TO_RESOLVE    20 non-null float64\n",
      "AVG_RESOLUTION_TIME     20 non-null int64\n",
      "REOCCUR_RATE            20 non-null float64\n",
      "REPLACEMENT_RATE        20 non-null float64\n",
      "dtypes: float64(3), int64(2), object(1)\n",
      "memory usage: 1.0+ KB\n"
     ]
    }
   ],
   "source": [
    "from sklearn.cluster import KMeans\n",
    "from scipy.spatial.distance import cdist\n",
    "\n",
    "issues = pd.read_csv('data/issues.csv')\n",
    "issues.info()"
   ]
  },
  {
   "cell_type": "code",
   "execution_count": 20,
   "metadata": {},
   "outputs": [
    {
     "data": {
      "text/html": [
       "<div>\n",
       "<style>\n",
       "    .dataframe thead tr:only-child th {\n",
       "        text-align: right;\n",
       "    }\n",
       "\n",
       "    .dataframe thead th {\n",
       "        text-align: left;\n",
       "    }\n",
       "\n",
       "    .dataframe tbody tr th {\n",
       "        vertical-align: top;\n",
       "    }\n",
       "</style>\n",
       "<table border=\"1\" class=\"dataframe\">\n",
       "  <thead>\n",
       "    <tr style=\"text-align: right;\">\n",
       "      <th></th>\n",
       "      <th>COUNT</th>\n",
       "      <th>AVG_CALLS_TO_RESOLVE</th>\n",
       "      <th>AVG_RESOLUTION_TIME</th>\n",
       "      <th>REOCCUR_RATE</th>\n",
       "      <th>REPLACEMENT_RATE</th>\n",
       "    </tr>\n",
       "  </thead>\n",
       "  <tbody>\n",
       "    <tr>\n",
       "      <th>count</th>\n",
       "      <td>20.000000</td>\n",
       "      <td>20.000000</td>\n",
       "      <td>20.000000</td>\n",
       "      <td>20.000000</td>\n",
       "      <td>20.000000</td>\n",
       "    </tr>\n",
       "    <tr>\n",
       "      <th>mean</th>\n",
       "      <td>163.200000</td>\n",
       "      <td>2.020000</td>\n",
       "      <td>62.800000</td>\n",
       "      <td>0.156500</td>\n",
       "      <td>0.045000</td>\n",
       "    </tr>\n",
       "    <tr>\n",
       "      <th>std</th>\n",
       "      <td>156.483596</td>\n",
       "      <td>1.032422</td>\n",
       "      <td>58.438091</td>\n",
       "      <td>0.116089</td>\n",
       "      <td>0.085563</td>\n",
       "    </tr>\n",
       "    <tr>\n",
       "      <th>min</th>\n",
       "      <td>12.000000</td>\n",
       "      <td>1.000000</td>\n",
       "      <td>5.000000</td>\n",
       "      <td>0.020000</td>\n",
       "      <td>0.000000</td>\n",
       "    </tr>\n",
       "    <tr>\n",
       "      <th>25%</th>\n",
       "      <td>39.500000</td>\n",
       "      <td>1.175000</td>\n",
       "      <td>20.000000</td>\n",
       "      <td>0.037500</td>\n",
       "      <td>0.000000</td>\n",
       "    </tr>\n",
       "    <tr>\n",
       "      <th>50%</th>\n",
       "      <td>109.000000</td>\n",
       "      <td>1.900000</td>\n",
       "      <td>38.500000</td>\n",
       "      <td>0.170000</td>\n",
       "      <td>0.000000</td>\n",
       "    </tr>\n",
       "    <tr>\n",
       "      <th>75%</th>\n",
       "      <td>245.000000</td>\n",
       "      <td>2.425000</td>\n",
       "      <td>126.750000</td>\n",
       "      <td>0.255000</td>\n",
       "      <td>0.042500</td>\n",
       "    </tr>\n",
       "    <tr>\n",
       "      <th>max</th>\n",
       "      <td>520.000000</td>\n",
       "      <td>4.300000</td>\n",
       "      <td>180.000000</td>\n",
       "      <td>0.350000</td>\n",
       "      <td>0.280000</td>\n",
       "    </tr>\n",
       "  </tbody>\n",
       "</table>\n",
       "</div>"
      ],
      "text/plain": [
       "            COUNT  AVG_CALLS_TO_RESOLVE  AVG_RESOLUTION_TIME  REOCCUR_RATE  \\\n",
       "count   20.000000             20.000000            20.000000     20.000000   \n",
       "mean   163.200000              2.020000            62.800000      0.156500   \n",
       "std    156.483596              1.032422            58.438091      0.116089   \n",
       "min     12.000000              1.000000             5.000000      0.020000   \n",
       "25%     39.500000              1.175000            20.000000      0.037500   \n",
       "50%    109.000000              1.900000            38.500000      0.170000   \n",
       "75%    245.000000              2.425000           126.750000      0.255000   \n",
       "max    520.000000              4.300000           180.000000      0.350000   \n",
       "\n",
       "       REPLACEMENT_RATE  \n",
       "count         20.000000  \n",
       "mean           0.045000  \n",
       "std            0.085563  \n",
       "min            0.000000  \n",
       "25%            0.000000  \n",
       "50%            0.000000  \n",
       "75%            0.042500  \n",
       "max            0.280000  "
      ]
     },
     "execution_count": 20,
     "metadata": {},
     "output_type": "execute_result"
    }
   ],
   "source": [
    "issues.describe()"
   ]
  },
  {
   "cell_type": "code",
   "execution_count": 21,
   "metadata": {},
   "outputs": [
    {
     "data": {
      "text/html": [
       "<div>\n",
       "<style>\n",
       "    .dataframe thead tr:only-child th {\n",
       "        text-align: right;\n",
       "    }\n",
       "\n",
       "    .dataframe thead th {\n",
       "        text-align: left;\n",
       "    }\n",
       "\n",
       "    .dataframe tbody tr th {\n",
       "        vertical-align: top;\n",
       "    }\n",
       "</style>\n",
       "<table border=\"1\" class=\"dataframe\">\n",
       "  <thead>\n",
       "    <tr style=\"text-align: right;\">\n",
       "      <th></th>\n",
       "      <th>PROBLEM_TYPE</th>\n",
       "      <th>COUNT</th>\n",
       "      <th>AVG_CALLS_TO_RESOLVE</th>\n",
       "      <th>AVG_RESOLUTION_TIME</th>\n",
       "      <th>REOCCUR_RATE</th>\n",
       "      <th>REPLACEMENT_RATE</th>\n",
       "    </tr>\n",
       "  </thead>\n",
       "  <tbody>\n",
       "    <tr>\n",
       "      <th>0</th>\n",
       "      <td>Admin Password Lost</td>\n",
       "      <td>45</td>\n",
       "      <td>2.3</td>\n",
       "      <td>54</td>\n",
       "      <td>0.15</td>\n",
       "      <td>0.00</td>\n",
       "    </tr>\n",
       "    <tr>\n",
       "      <th>1</th>\n",
       "      <td>Windows Reboots automatically</td>\n",
       "      <td>47</td>\n",
       "      <td>3.1</td>\n",
       "      <td>132</td>\n",
       "      <td>0.30</td>\n",
       "      <td>0.03</td>\n",
       "    </tr>\n",
       "    <tr>\n",
       "      <th>2</th>\n",
       "      <td>System not coming up after reboot</td>\n",
       "      <td>12</td>\n",
       "      <td>4.0</td>\n",
       "      <td>154</td>\n",
       "      <td>0.02</td>\n",
       "      <td>0.05</td>\n",
       "    </tr>\n",
       "    <tr>\n",
       "      <th>3</th>\n",
       "      <td>Slow system</td>\n",
       "      <td>165</td>\n",
       "      <td>1.2</td>\n",
       "      <td>32</td>\n",
       "      <td>0.03</td>\n",
       "      <td>0.00</td>\n",
       "    </tr>\n",
       "    <tr>\n",
       "      <th>4</th>\n",
       "      <td>Internet Connectivity loss</td>\n",
       "      <td>321</td>\n",
       "      <td>1.0</td>\n",
       "      <td>5</td>\n",
       "      <td>0.21</td>\n",
       "      <td>0.00</td>\n",
       "    </tr>\n",
       "  </tbody>\n",
       "</table>\n",
       "</div>"
      ],
      "text/plain": [
       "                        PROBLEM_TYPE  COUNT  AVG_CALLS_TO_RESOLVE  \\\n",
       "0                Admin Password Lost     45                   2.3   \n",
       "1      Windows Reboots automatically     47                   3.1   \n",
       "2  System not coming up after reboot     12                   4.0   \n",
       "3                        Slow system    165                   1.2   \n",
       "4         Internet Connectivity loss    321                   1.0   \n",
       "\n",
       "   AVG_RESOLUTION_TIME  REOCCUR_RATE  REPLACEMENT_RATE  \n",
       "0                   54          0.15              0.00  \n",
       "1                  132          0.30              0.03  \n",
       "2                  154          0.02              0.05  \n",
       "3                   32          0.03              0.00  \n",
       "4                    5          0.21              0.00  "
      ]
     },
     "execution_count": 21,
     "metadata": {},
     "output_type": "execute_result"
    }
   ],
   "source": [
    "issues.head()"
   ]
  },
  {
   "cell_type": "markdown",
   "metadata": {},
   "source": [
    "## K-Means cluster"
   ]
  },
  {
   "cell_type": "code",
   "execution_count": 22,
   "metadata": {},
   "outputs": [
    {
     "data": {
      "text/plain": [
       "<matplotlib.text.Text at 0x264fb8c95f8>"
      ]
     },
     "execution_count": 22,
     "metadata": {},
     "output_type": "execute_result"
    },
    {
     "data": {
      "image/png": "[encoded data removed]",
      "text/plain": [
       "<matplotlib.figure.Figure at 0x264f9e0f438>"
      ]
     },
     "metadata": {},
     "output_type": "display_data"
    }
   ],
   "source": [
    "cluster = issues.drop('PROBLEM_TYPE',axis=1)\n",
    "\n",
    "# Calculate optimal number of clusters with elbow methos\n",
    "clusters=range(1,10)\n",
    "meanDistortions=[]\n",
    "\n",
    "for k in clusters:\n",
    "    model=KMeans(n_clusters=k)\n",
    "    model.fit(cluster)\n",
    "    prediction=model.predict(cluster)\n",
    "    meanDistortions.append(sum(np.min(cdist(cluster, \n",
    "        model.cluster_centers_, 'euclidean'), \n",
    "        axis=1)) / cluster.shape[0])\n",
    "\n",
    "# Create a plot\n",
    "plt.plot(clusters, meanDistortions, 'bx-')\n",
    "plt.xlabel('k')\n",
    "plt.ylabel('Average distortion')\n"
   ]
  },
  {
   "cell_type": "code",
   "execution_count": 23,
   "metadata": {},
   "outputs": [
    {
     "name": "stdout",
     "output_type": "stream",
     "text": [
      "Groups Assigned : \n",
      "\n"
     ]
    },
    {
     "data": {
      "text/html": [
       "<div>\n",
       "<style>\n",
       "    .dataframe thead tr:only-child th {\n",
       "        text-align: right;\n",
       "    }\n",
       "\n",
       "    .dataframe thead th {\n",
       "        text-align: left;\n",
       "    }\n",
       "\n",
       "    .dataframe tbody tr th {\n",
       "        vertical-align: top;\n",
       "    }\n",
       "</style>\n",
       "<table border=\"1\" class=\"dataframe\">\n",
       "  <thead>\n",
       "    <tr style=\"text-align: right;\">\n",
       "      <th></th>\n",
       "      <th>GROUP</th>\n",
       "      <th>PROBLEM_TYPE</th>\n",
       "    </tr>\n",
       "  </thead>\n",
       "  <tbody>\n",
       "    <tr>\n",
       "      <th>0</th>\n",
       "      <td>1</td>\n",
       "      <td>Admin Password Lost</td>\n",
       "    </tr>\n",
       "    <tr>\n",
       "      <th>1</th>\n",
       "      <td>1</td>\n",
       "      <td>Windows Reboots automatically</td>\n",
       "    </tr>\n",
       "    <tr>\n",
       "      <th>2</th>\n",
       "      <td>1</td>\n",
       "      <td>System not coming up after reboot</td>\n",
       "    </tr>\n",
       "    <tr>\n",
       "      <th>3</th>\n",
       "      <td>2</td>\n",
       "      <td>Slow system</td>\n",
       "    </tr>\n",
       "    <tr>\n",
       "      <th>4</th>\n",
       "      <td>0</td>\n",
       "      <td>Internet Connectivity loss</td>\n",
       "    </tr>\n",
       "    <tr>\n",
       "      <th>5</th>\n",
       "      <td>1</td>\n",
       "      <td>New Installation hangs</td>\n",
       "    </tr>\n",
       "    <tr>\n",
       "      <th>6</th>\n",
       "      <td>1</td>\n",
       "      <td>Intermittent Blank Screen</td>\n",
       "    </tr>\n",
       "    <tr>\n",
       "      <th>7</th>\n",
       "      <td>2</td>\n",
       "      <td>Too many popups in Browser</td>\n",
       "    </tr>\n",
       "    <tr>\n",
       "      <th>8</th>\n",
       "      <td>2</td>\n",
       "      <td>Cannot find printer</td>\n",
       "    </tr>\n",
       "    <tr>\n",
       "      <th>9</th>\n",
       "      <td>1</td>\n",
       "      <td>Missing peripheral driver</td>\n",
       "    </tr>\n",
       "    <tr>\n",
       "      <th>10</th>\n",
       "      <td>0</td>\n",
       "      <td>Cannot detect keyboard</td>\n",
       "    </tr>\n",
       "    <tr>\n",
       "      <th>11</th>\n",
       "      <td>0</td>\n",
       "      <td>Cannot detect mouse</td>\n",
       "    </tr>\n",
       "    <tr>\n",
       "      <th>12</th>\n",
       "      <td>0</td>\n",
       "      <td>Head phone jack not working</td>\n",
       "    </tr>\n",
       "    <tr>\n",
       "      <th>13</th>\n",
       "      <td>2</td>\n",
       "      <td>DVD read error</td>\n",
       "    </tr>\n",
       "    <tr>\n",
       "      <th>14</th>\n",
       "      <td>1</td>\n",
       "      <td>Cannot recover using restore</td>\n",
       "    </tr>\n",
       "    <tr>\n",
       "      <th>15</th>\n",
       "      <td>2</td>\n",
       "      <td>WIFI not functioning</td>\n",
       "    </tr>\n",
       "    <tr>\n",
       "      <th>16</th>\n",
       "      <td>1</td>\n",
       "      <td>Laptop not charging</td>\n",
       "    </tr>\n",
       "    <tr>\n",
       "      <th>17</th>\n",
       "      <td>1</td>\n",
       "      <td>Laptop loses charge very fast</td>\n",
       "    </tr>\n",
       "    <tr>\n",
       "      <th>18</th>\n",
       "      <td>1</td>\n",
       "      <td>Dark areas on screen</td>\n",
       "    </tr>\n",
       "    <tr>\n",
       "      <th>19</th>\n",
       "      <td>2</td>\n",
       "      <td>anti-virus not working</td>\n",
       "    </tr>\n",
       "  </tbody>\n",
       "</table>\n",
       "</div>"
      ],
      "text/plain": [
       "    GROUP                       PROBLEM_TYPE\n",
       "0       1                Admin Password Lost\n",
       "1       1      Windows Reboots automatically\n",
       "2       1  System not coming up after reboot\n",
       "3       2                        Slow system\n",
       "4       0         Internet Connectivity loss\n",
       "5       1             New Installation hangs\n",
       "6       1          Intermittent Blank Screen\n",
       "7       2         Too many popups in Browser\n",
       "8       2                Cannot find printer\n",
       "9       1          Missing peripheral driver\n",
       "10      0             Cannot detect keyboard\n",
       "11      0                Cannot detect mouse\n",
       "12      0        Head phone jack not working\n",
       "13      2                     DVD read error\n",
       "14      1       Cannot recover using restore\n",
       "15      2               WIFI not functioning\n",
       "16      1                Laptop not charging\n",
       "17      1      Laptop loses charge very fast\n",
       "18      1               Dark areas on screen\n",
       "19      2             anti-virus not working"
      ]
     },
     "execution_count": 23,
     "metadata": {},
     "output_type": "execute_result"
    }
   ],
   "source": [
    "k_cluster = KMeans(3)\n",
    "k_cluster.fit(cluster)\n",
    "\n",
    "predict = k_cluster.predict(cluster)\n",
    "\n",
    "# Merge into original data\n",
    "issues[\"GROUP\"] = predict\n",
    "print(\"Groups Assigned : \\n\")\n",
    "issues[[\"GROUP\",\"PROBLEM_TYPE\"]]"
   ]
  },
  {
   "cell_type": "markdown",
   "metadata": {},
   "source": [
    "## Evaluate clusters"
   ]
  },
  {
   "cell_type": "code",
   "execution_count": 24,
   "metadata": {},
   "outputs": [
    {
     "data": {
      "text/plain": [
       "{'boxes': [<matplotlib.lines.Line2D at 0x264fba1b1d0>,\n",
       "  <matplotlib.lines.Line2D at 0x264fba35b70>,\n",
       "  <matplotlib.lines.Line2D at 0x264fb9d9b38>],\n",
       " 'caps': [<matplotlib.lines.Line2D at 0x264fba25b38>,\n",
       "  <matplotlib.lines.Line2D at 0x264fba25cf8>,\n",
       "  <matplotlib.lines.Line2D at 0x264fba3fe48>,\n",
       "  <matplotlib.lines.Line2D at 0x264fba46cf8>,\n",
       "  <matplotlib.lines.Line2D at 0x264fb8c9358>,\n",
       "  <matplotlib.lines.Line2D at 0x264fb461710>],\n",
       " 'fliers': [<matplotlib.lines.Line2D at 0x264fba2cd68>,\n",
       "  <matplotlib.lines.Line2D at 0x264fb9d97f0>,\n",
       "  <matplotlib.lines.Line2D at 0x264fba4dfd0>],\n",
       " 'means': [],\n",
       " 'medians': [<matplotlib.lines.Line2D at 0x264fba2c550>,\n",
       "  <matplotlib.lines.Line2D at 0x264fba46eb8>,\n",
       "  <matplotlib.lines.Line2D at 0x264fb4730f0>],\n",
       " 'whiskers': [<matplotlib.lines.Line2D at 0x264fba1bac8>,\n",
       "  <matplotlib.lines.Line2D at 0x264fba1bcc0>,\n",
       "  <matplotlib.lines.Line2D at 0x264fba35dd8>,\n",
       "  <matplotlib.lines.Line2D at 0x264fba3fc88>,\n",
       "  <matplotlib.lines.Line2D at 0x264fb9d1668>,\n",
       "  <matplotlib.lines.Line2D at 0x264fb9aaeb8>]}"
      ]
     },
     "execution_count": 24,
     "metadata": {},
     "output_type": "execute_result"
    },
    {
     "data": {
      "image/png": "[encoded data removed]",
      "text/plain": [
       "<matplotlib.figure.Figure at 0x264fb9663c8>"
      ]
     },
     "metadata": {},
     "output_type": "display_data"
    }
   ],
   "source": [
    "\n",
    "plt.cla()\n",
    "plt.boxplot([[issues[\"COUNT\"][issues.GROUP==0]],\n",
    "              [issues[\"COUNT\"][issues.GROUP==1]] ,\n",
    "                [issues[\"COUNT\"][issues.GROUP==2]] ],\n",
    "            labels=('GROUP 1','GROUP 2','GROUP 3'))"
   ]
  },
  {
   "cell_type": "code",
   "execution_count": 25,
   "metadata": {},
   "outputs": [
    {
     "data": {
      "text/plain": [
       "{'boxes': [<matplotlib.lines.Line2D at 0x264fbb126d8>,\n",
       "  <matplotlib.lines.Line2D at 0x264fbb35278>,\n",
       "  <matplotlib.lines.Line2D at 0x264fbaae668>],\n",
       " 'caps': [<matplotlib.lines.Line2D at 0x264fbb1dbe0>,\n",
       "  <matplotlib.lines.Line2D at 0x264fbb23a90>,\n",
       "  <matplotlib.lines.Line2D at 0x264fbac8dd8>,\n",
       "  <matplotlib.lines.Line2D at 0x264fbac19b0>,\n",
       "  <matplotlib.lines.Line2D at 0x264fba8bf60>,\n",
       "  <matplotlib.lines.Line2D at 0x264fbb35ef0>],\n",
       " 'fliers': [<matplotlib.lines.Line2D at 0x264fbb2bb00>,\n",
       "  <matplotlib.lines.Line2D at 0x264fbab47b8>,\n",
       "  <matplotlib.lines.Line2D at 0x264fbb41f60>],\n",
       " 'means': [],\n",
       " 'medians': [<matplotlib.lines.Line2D at 0x264fbb23c50>,\n",
       "  <matplotlib.lines.Line2D at 0x264fbaba438>,\n",
       "  <matplotlib.lines.Line2D at 0x264fbb41748>],\n",
       " 'whiskers': [<matplotlib.lines.Line2D at 0x264fbb12710>,\n",
       "  <matplotlib.lines.Line2D at 0x264fbb1da20>,\n",
       "  <matplotlib.lines.Line2D at 0x264fbae8b38>,\n",
       "  <matplotlib.lines.Line2D at 0x264fbae8940>,\n",
       "  <matplotlib.lines.Line2D at 0x264fbaa85f8>,\n",
       "  <matplotlib.lines.Line2D at 0x264fba9db38>]}"
      ]
     },
     "execution_count": 25,
     "metadata": {},
     "output_type": "execute_result"
    },
    {
     "data": {
      "image/png": "[encoded data removed]",
      "text/plain": [
       "<matplotlib.figure.Figure at 0x264fba6cd68>"
      ]
     },
     "metadata": {},
     "output_type": "display_data"
    }
   ],
   "source": [
    "#Now for Avg. Calls to resolve\n",
    "plt.cla()\n",
    "plt.boxplot([[issues[\"AVG_CALLS_TO_RESOLVE\"][issues.GROUP==0]],\n",
    "              [issues[\"AVG_CALLS_TO_RESOLVE\"][issues.GROUP==1]] ,\n",
    "                [issues[\"AVG_CALLS_TO_RESOLVE\"][issues.GROUP==2]] ],\n",
    "            labels=('GROUP 1','GROUP 2','GROUP 3'))"
   ]
  },
  {
   "cell_type": "code",
   "execution_count": 26,
   "metadata": {},
   "outputs": [
    {
     "data": {
      "text/plain": [
       "{'boxes': [<matplotlib.lines.Line2D at 0x264fbbfb2b0>,\n",
       "  <matplotlib.lines.Line2D at 0x264fbc15e10>,\n",
       "  <matplotlib.lines.Line2D at 0x264fbb954a8>],\n",
       " 'caps': [<matplotlib.lines.Line2D at 0x264fbc04e10>,\n",
       "  <matplotlib.lines.Line2D at 0x264fbc04fd0>,\n",
       "  <matplotlib.lines.Line2D at 0x264fbbb0160>,\n",
       "  <matplotlib.lines.Line2D at 0x264fbba92e8>,\n",
       "  <matplotlib.lines.Line2D at 0x264fba03978>,\n",
       "  <matplotlib.lines.Line2D at 0x264f9e0f668>],\n",
       " 'fliers': [<matplotlib.lines.Line2D at 0x264fbc156d8>,\n",
       "  <matplotlib.lines.Line2D at 0x264f9af9f28>,\n",
       "  <matplotlib.lines.Line2D at 0x264fbb7feb8>],\n",
       " 'means': [],\n",
       " 'medians': [<matplotlib.lines.Line2D at 0x264fbc0c828>,\n",
       "  <matplotlib.lines.Line2D at 0x264fbba3080>,\n",
       "  <matplotlib.lines.Line2D at 0x264fbb8acc0>],\n",
       " 'whiskers': [<matplotlib.lines.Line2D at 0x264fbbfbda0>,\n",
       "  <matplotlib.lines.Line2D at 0x264fbbfbf98>,\n",
       "  <matplotlib.lines.Line2D at 0x264fbbb9438>,\n",
       "  <matplotlib.lines.Line2D at 0x264fbbb9470>,\n",
       "  <matplotlib.lines.Line2D at 0x264fbb779e8>,\n",
       "  <matplotlib.lines.Line2D at 0x264fb9e84e0>]}"
      ]
     },
     "execution_count": 26,
     "metadata": {},
     "output_type": "execute_result"
    },
    {
     "data": {
      "image/png": "[encoded data removed]",
      "text/plain": [
       "<matplotlib.figure.Figure at 0x264fbb58358>"
      ]
     },
     "metadata": {},
     "output_type": "display_data"
    }
   ],
   "source": [
    "plt.cla()\n",
    "plt.boxplot([[issues[\"REOCCUR_RATE\"][issues.GROUP==0]],\n",
    "              [issues[\"REOCCUR_RATE\"][issues.GROUP==1]] ,\n",
    "                [issues[\"REOCCUR_RATE\"][issues.GROUP==2]] ],\n",
    "            labels=('GROUP 1','GROUP 2','GROUP 3'))"
   ]
  },
  {
   "cell_type": "code",
   "execution_count": 27,
   "metadata": {},
   "outputs": [
    {
     "data": {
      "text/plain": [
       "{'boxes': [<matplotlib.lines.Line2D at 0x264fbcd6860>,\n",
       "  <matplotlib.lines.Line2D at 0x264fbcf7400>,\n",
       "  <matplotlib.lines.Line2D at 0x264fbc70940>],\n",
       " 'caps': [<matplotlib.lines.Line2D at 0x264fbcdfd68>,\n",
       "  <matplotlib.lines.Line2D at 0x264fbce5c18>,\n",
       "  <matplotlib.lines.Line2D at 0x264fbc8c208>,\n",
       "  <matplotlib.lines.Line2D at 0x264fbc83e48>,\n",
       "  <matplotlib.lines.Line2D at 0x264fbc56860>,\n",
       "  <matplotlib.lines.Line2D at 0x264fbd03710>],\n",
       " 'fliers': [<matplotlib.lines.Line2D at 0x264fbcefc88>,\n",
       "  <matplotlib.lines.Line2D at 0x264fbc76198>,\n",
       "  <matplotlib.lines.Line2D at 0x264fbd0a780>],\n",
       " 'means': [],\n",
       " 'medians': [<matplotlib.lines.Line2D at 0x264fbce5dd8>,\n",
       "  <matplotlib.lines.Line2D at 0x264fbc7fa58>,\n",
       "  <matplotlib.lines.Line2D at 0x264fbd038d0>],\n",
       " 'whiskers': [<matplotlib.lines.Line2D at 0x264fbcd6898>,\n",
       "  <matplotlib.lines.Line2D at 0x264fbcdfba8>,\n",
       "  <matplotlib.lines.Line2D at 0x264fbcaad68>,\n",
       "  <matplotlib.lines.Line2D at 0x264fbc92b38>,\n",
       "  <matplotlib.lines.Line2D at 0x264fbc69470>,\n",
       "  <matplotlib.lines.Line2D at 0x264fba6cf98>]}"
      ]
     },
     "execution_count": 27,
     "metadata": {},
     "output_type": "execute_result"
    },
    {
     "data": {
      "image/png": "[encoded data removed]",
      "text/plain": [
       "<matplotlib.figure.Figure at 0x264fbc33ef0>"
      ]
     },
     "metadata": {},
     "output_type": "display_data"
    }
   ],
   "source": [
    "plt.cla()\n",
    "plt.boxplot([[issues[\"REPLACEMENT_RATE\"][issues.GROUP==0]],\n",
    "              [issues[\"REPLACEMENT_RATE\"][issues.GROUP==1]] ,\n",
    "                [issues[\"REPLACEMENT_RATE\"][issues.GROUP==2]] ],\n",
    "            labels=('GROUP 1','GROUP 2','GROUP 3'))"
   ]
  }
 ],
 "metadata": {
  "kernelspec": {
   "display_name": "Python 3",
   "language": "python",
   "name": "python3"
  },
  "language_info": {
   "codemirror_mode": {
    "name": "ipython",
    "version": 3
   },
   "file_extension": ".py",
   "mimetype": "text/x-python",
   "name": "python",
   "nbconvert_exporter": "python",
   "pygments_lexer": "ipython3",
   "version": "3.6.1"
  }
 },
 "nbformat": 4,
 "nbformat_minor": 2
}

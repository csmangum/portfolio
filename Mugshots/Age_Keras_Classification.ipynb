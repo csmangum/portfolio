{
 "cells": [
  {
   "cell_type": "code",
   "execution_count": 1,
   "metadata": {
    "ExecuteTime": {
     "end_time": "2020-05-08T00:26:55.065069Z",
     "start_time": "2020-05-08T00:26:47.807690Z"
    }
   },
   "outputs": [
    {
     "name": "stderr",
     "output_type": "stream",
     "text": [
      "Using TensorFlow backend.\n"
     ]
    }
   ],
   "source": [
    "import cv2\n",
    "import numpy as np\n",
    "import pandas as pd\n",
    "import os  \n",
    "from random import shuffle\n",
    "from IPython.display import display, Markdown\n",
    "from tqdm import tqdm\n",
    "import PIL\n",
    "from PIL import Image\n",
    "import seaborn as sn\n",
    "from itertools import cycle\n",
    "import datetime\n",
    "\n",
    "import keras\n",
    "from keras.models import Sequential\n",
    "from keras.layers import Dense, Dropout, Flatten\n",
    "from keras.layers import Conv2D, MaxPooling2D\n",
    "from keras.layers.normalization import BatchNormalization\n",
    "\n",
    "from matplotlib.pyplot import imshow\n",
    "from sklearn.metrics import precision_score, recall_score, f1_score, accuracy_score, roc_curve, auc, confusion_matrix\n",
    "import matplotlib.pyplot as plt\n",
    "%matplotlib inline\n",
    "\n",
    "import tensorflow as tf\n",
    "tf.compat.v1.logging.set_verbosity(tf.compat.v1.logging.ERROR)\n",
    "\n",
    "sn.set()\n",
    "\n",
    "df = pd.read_csv('data/individual_details.csv')\n",
    "\n",
    "\n",
    "img_path = 'mugshots/mugs'\n",
    "img_w = 120\n",
    "img_h = 150\n",
    "learning_rate = .001"
   ]
  },
  {
   "cell_type": "code",
   "execution_count": 2,
   "metadata": {
    "ExecuteTime": {
     "end_time": "2020-05-08T00:26:55.834708Z",
     "start_time": "2020-05-08T00:26:55.073132Z"
    }
   },
   "outputs": [],
   "source": [
    "df['booking_date'] = pd.to_datetime(df['booking_date'])\n",
    "df['bday'] = pd.to_datetime(df['bday'])\n",
    "\n",
    "df['age'] = round((df[\"booking_date\"] - df[\"bday\"]).dt.days / 365)"
   ]
  },
  {
   "cell_type": "code",
   "execution_count": 3,
   "metadata": {
    "ExecuteTime": {
     "end_time": "2020-05-08T00:26:55.865579Z",
     "start_time": "2020-05-08T00:26:55.840722Z"
    }
   },
   "outputs": [
    {
     "data": {
      "text/html": [
       "<div>\n",
       "<style scoped>\n",
       "    .dataframe tbody tr th:only-of-type {\n",
       "        vertical-align: middle;\n",
       "    }\n",
       "\n",
       "    .dataframe tbody tr th {\n",
       "        vertical-align: top;\n",
       "    }\n",
       "\n",
       "    .dataframe thead th {\n",
       "        text-align: right;\n",
       "    }\n",
       "</style>\n",
       "<table border=\"1\" class=\"dataframe\">\n",
       "  <thead>\n",
       "    <tr style=\"text-align: right;\">\n",
       "      <th></th>\n",
       "      <th>booking_number</th>\n",
       "      <th>booking_date</th>\n",
       "      <th>sex</th>\n",
       "      <th>height</th>\n",
       "      <th>weight</th>\n",
       "      <th>eye_color</th>\n",
       "      <th>hair_color</th>\n",
       "      <th>bday</th>\n",
       "      <th>crime_type_expanded</th>\n",
       "      <th>age</th>\n",
       "    </tr>\n",
       "  </thead>\n",
       "  <tbody>\n",
       "    <tr>\n",
       "      <th>0</th>\n",
       "      <td>T626990</td>\n",
       "      <td>2020-03-18</td>\n",
       "      <td>MALE</td>\n",
       "      <td>6'02</td>\n",
       "      <td>155</td>\n",
       "      <td>BROWN</td>\n",
       "      <td>BROWN</td>\n",
       "      <td>1996-12-16</td>\n",
       "      <td>['THREAT-INTIMIDATE-GANG', 'AGGRAVATED ROBBERY...</td>\n",
       "      <td>23.0</td>\n",
       "    </tr>\n",
       "    <tr>\n",
       "      <th>1</th>\n",
       "      <td>T626991</td>\n",
       "      <td>2020-03-18</td>\n",
       "      <td>MALE</td>\n",
       "      <td>5'11</td>\n",
       "      <td>250</td>\n",
       "      <td>BROWN</td>\n",
       "      <td>BLACK</td>\n",
       "      <td>1976-04-12</td>\n",
       "      <td>['AGG ASLT-DEADLY WPN/DANG INST', 'DISORDERLY ...</td>\n",
       "      <td>44.0</td>\n",
       "    </tr>\n",
       "    <tr>\n",
       "      <th>2</th>\n",
       "      <td>T626994</td>\n",
       "      <td>2020-03-18</td>\n",
       "      <td>MALE</td>\n",
       "      <td>5'06</td>\n",
       "      <td>190</td>\n",
       "      <td>BROWN</td>\n",
       "      <td>BLACK</td>\n",
       "      <td>1993-10-27</td>\n",
       "      <td>['PROBATION VIOLATION', 'AGG ASLT-DEADLY WPN/D...</td>\n",
       "      <td>26.0</td>\n",
       "    </tr>\n",
       "    <tr>\n",
       "      <th>3</th>\n",
       "      <td>T626995</td>\n",
       "      <td>2020-03-18</td>\n",
       "      <td>MALE</td>\n",
       "      <td>5'09</td>\n",
       "      <td>140</td>\n",
       "      <td>BROWN</td>\n",
       "      <td>BROWN</td>\n",
       "      <td>1998-01-07</td>\n",
       "      <td>['RESIST ARREST-RISK PHYS INJ', 'CRIMINAL DAMA...</td>\n",
       "      <td>22.0</td>\n",
       "    </tr>\n",
       "    <tr>\n",
       "      <th>4</th>\n",
       "      <td>T626997</td>\n",
       "      <td>2020-03-18</td>\n",
       "      <td>FEMALE</td>\n",
       "      <td>5'05</td>\n",
       "      <td>115</td>\n",
       "      <td>BROWN</td>\n",
       "      <td>BROWN</td>\n",
       "      <td>1973-07-16</td>\n",
       "      <td>['CHILD/VUL ADULT ABUSE-INTENT']</td>\n",
       "      <td>47.0</td>\n",
       "    </tr>\n",
       "  </tbody>\n",
       "</table>\n",
       "</div>"
      ],
      "text/plain": [
       "  booking_number booking_date     sex height  weight eye_color hair_color  \\\n",
       "0        T626990   2020-03-18    MALE   6'02     155     BROWN      BROWN   \n",
       "1        T626991   2020-03-18    MALE   5'11     250     BROWN      BLACK   \n",
       "2        T626994   2020-03-18    MALE   5'06     190     BROWN      BLACK   \n",
       "3        T626995   2020-03-18    MALE   5'09     140     BROWN      BROWN   \n",
       "4        T626997   2020-03-18  FEMALE   5'05     115     BROWN      BROWN   \n",
       "\n",
       "        bday                                crime_type_expanded   age  \n",
       "0 1996-12-16  ['THREAT-INTIMIDATE-GANG', 'AGGRAVATED ROBBERY...  23.0  \n",
       "1 1976-04-12  ['AGG ASLT-DEADLY WPN/DANG INST', 'DISORDERLY ...  44.0  \n",
       "2 1993-10-27  ['PROBATION VIOLATION', 'AGG ASLT-DEADLY WPN/D...  26.0  \n",
       "3 1998-01-07  ['RESIST ARREST-RISK PHYS INJ', 'CRIMINAL DAMA...  22.0  \n",
       "4 1973-07-16                   ['CHILD/VUL ADULT ABUSE-INTENT']  47.0  "
      ]
     },
     "execution_count": 3,
     "metadata": {},
     "output_type": "execute_result"
    }
   ],
   "source": [
    "df.head()"
   ]
  },
  {
   "cell_type": "code",
   "execution_count": 4,
   "metadata": {
    "ExecuteTime": {
     "end_time": "2020-05-08T00:26:55.900429Z",
     "start_time": "2020-05-08T00:26:55.869602Z"
    }
   },
   "outputs": [],
   "source": [
    "age_bins = list(np.arange(18,60,12))\n",
    "# age_bins = [18, 25, 40, 50]\n",
    "\n",
    "age_labels = []\n",
    "\n",
    "for n, i in zip(age_bins, range(len(age_bins))):  \n",
    "    if n == age_bins[0]:\n",
    "        pass\n",
    "    else:\n",
    "        age_labels.append(f'{age_bins[i-1]}-{n}')\n",
    "\n",
    "final_bin = f'>{age_bins[-1]}'\n",
    "\n",
    "df['age_bins'] = pd.cut(x=df['age'], bins=age_bins, labels=age_labels).astype(str)\n",
    "df['age_bins'] = df.age_bins.replace('nan', final_bin)\n",
    "\n",
    "age_labels.append(final_bin)\n",
    "\n",
    "df = pd.get_dummies(df, columns=['age_bins'], drop_first=False)"
   ]
  },
  {
   "cell_type": "code",
   "execution_count": 5,
   "metadata": {
    "ExecuteTime": {
     "end_time": "2020-05-08T00:26:55.918609Z",
     "start_time": "2020-05-08T00:26:55.904750Z"
    }
   },
   "outputs": [],
   "source": [
    "def label_img(img):\n",
    "    booking_id = img.split('.')[0]\n",
    "    \n",
    "    index_pos = int(df[df['booking_number'] == booking_id].index.values)\n",
    "    \n",
    "    return list(df.iloc[index_pos][-(len(age_labels)):])\n",
    "\n",
    "    \n",
    "def process_img():\n",
    "    processed_data = []\n",
    "    for img in tqdm(os.listdir(img_path)):\n",
    "        label = label_img(img)\n",
    "        path = os.path.join(img_path,img)\n",
    "        img = cv2.imread(path)\n",
    "        img = cv2.cvtColor(img, cv2.COLOR_BGR2RGB)\n",
    "        img = cv2.resize(img, (img_w,img_h))\n",
    "        processed_data.append([np.array(img),np.array(label)])\n",
    "    shuffle(processed_data)\n",
    "#     np.save('data/train_data.npy', processed_data)\n",
    "    return processed_data\n",
    "\n",
    "\n",
    "# split data into train and test\n",
    "def split_img(img, train=.8):\n",
    "    length = len(img)\n",
    "    cut_off = round(len(images)*train)\n",
    "    \n",
    "    return img[:cut_off], img[cut_off:]"
   ]
  },
  {
   "cell_type": "code",
   "execution_count": 6,
   "metadata": {
    "ExecuteTime": {
     "end_time": "2020-05-08T00:27:28.832840Z",
     "start_time": "2020-05-08T00:26:55.923509Z"
    }
   },
   "outputs": [
    {
     "name": "stderr",
     "output_type": "stream",
     "text": [
      "100%|██████████| 4701/4701 [00:22<00:00, 207.16it/s]\n"
     ]
    }
   ],
   "source": [
    "images = process_img()"
   ]
  },
  {
   "cell_type": "markdown",
   "metadata": {},
   "source": [
    "# Keras"
   ]
  },
  {
   "cell_type": "code",
   "execution_count": 7,
   "metadata": {
    "ExecuteTime": {
     "end_time": "2020-05-08T00:27:28.963482Z",
     "start_time": "2020-05-08T00:27:28.834834Z"
    }
   },
   "outputs": [],
   "source": [
    "train, test = split_img(images)\n",
    "\n",
    "trainImages = np.array([i[0] for i in train]).reshape(-1, img_w, img_h, 3)\n",
    "trainLabels = np.array([i[1] for i in train])\n",
    "\n",
    "testImages = np.array([i[0] for i in test]).reshape(-1, img_w, img_h, 3)\n",
    "testLabels = np.array([i[1] for i in test])"
   ]
  },
  {
   "cell_type": "code",
   "execution_count": 8,
   "metadata": {
    "ExecuteTime": {
     "end_time": "2020-05-08T00:27:30.217092Z",
     "start_time": "2020-05-08T00:27:28.965775Z"
    }
   },
   "outputs": [],
   "source": [
    "model = tf.keras.models.Sequential()\n",
    "\n",
    "model.add(tf.keras.layers.Conv2D(32, kernel_size = (3, 3), activation='relu', input_shape=(img_w, img_h, 3)))\n",
    "model.add(tf.keras.layers.MaxPooling2D(pool_size=(2,2)))\n",
    "model.add(tf.keras.layers.BatchNormalization())\n",
    "\n",
    "model.add(tf.keras.layers.Conv2D(64, kernel_size=(3,3), activation='relu'))\n",
    "model.add(tf.keras.layers.MaxPooling2D(pool_size=(2,2)))\n",
    "model.add(tf.keras.layers.BatchNormalization())\n",
    "\n",
    "model.add(tf.keras.layers.Conv2D(96, kernel_size=(3,3), activation='relu'))\n",
    "model.add(tf.keras.layers.MaxPooling2D(pool_size=(2,2)))\n",
    "model.add(tf.keras.layers.BatchNormalization())\n",
    "\n",
    "model.add(tf.keras.layers.Conv2D(96, kernel_size=(3,3), activation='relu'))\n",
    "model.add(tf.keras.layers.MaxPooling2D(pool_size=(2,2)))\n",
    "model.add(tf.keras.layers.BatchNormalization())\n",
    "\n",
    "model.add(tf.keras.layers.Conv2D(64, kernel_size=(3,3), activation='relu'))\n",
    "model.add(tf.keras.layers.MaxPooling2D(pool_size=(2,2)))\n",
    "model.add(tf.keras.layers.BatchNormalization())\n",
    "\n",
    "model.add(tf.keras.layers.Dropout(0.2))\n",
    "model.add(tf.keras.layers.Flatten())\n",
    "model.add(tf.keras.layers.Dense(256, activation='relu'))\n",
    "model.add(tf.keras.layers.Dropout(0.2))\n",
    "model.add(tf.keras.layers.Dense(128, activation='relu'))\n",
    "model.add(tf.keras.layers.Dense(len(age_bins), activation = 'softmax'))"
   ]
  },
  {
   "cell_type": "code",
   "execution_count": 9,
   "metadata": {
    "ExecuteTime": {
     "end_time": "2020-05-08T00:27:30.501460Z",
     "start_time": "2020-05-08T00:27:30.219943Z"
    }
   },
   "outputs": [],
   "source": [
    "model.compile(loss='categorical_crossentropy', optimizer='adam', metrics = ['accuracy'])"
   ]
  },
  {
   "cell_type": "code",
   "execution_count": 10,
   "metadata": {
    "ExecuteTime": {
     "end_time": "2020-05-08T00:41:11.098534Z",
     "start_time": "2020-05-08T00:27:30.504008Z"
    },
    "scrolled": true
   },
   "outputs": [
    {
     "name": "stdout",
     "output_type": "stream",
     "text": [
      "Train on 3761 samples\n",
      "Epoch 1/20\n",
      "3761/3761 [==============================] - 36s 10ms/sample - loss: 1.1573 - acc: 0.4727\n",
      "Epoch 2/20\n",
      "3761/3761 [==============================] - 36s 10ms/sample - loss: 1.0834 - acc: 0.5084\n",
      "Epoch 3/20\n",
      "3761/3761 [==============================] - 36s 10ms/sample - loss: 1.0608 - acc: 0.5150\n",
      "Epoch 4/20\n",
      "3761/3761 [==============================] - 36s 10ms/sample - loss: 1.0432 - acc: 0.5217\n",
      "Epoch 5/20\n",
      "3761/3761 [==============================] - 36s 10ms/sample - loss: 1.0126 - acc: 0.5390\n",
      "Epoch 6/20\n",
      "3761/3761 [==============================] - 36s 10ms/sample - loss: 1.0045 - acc: 0.5440\n",
      "Epoch 7/20\n",
      "3761/3761 [==============================] - 36s 10ms/sample - loss: 0.9772 - acc: 0.5602\n",
      "Epoch 8/20\n",
      "3761/3761 [==============================] - 36s 10ms/sample - loss: 0.9550 - acc: 0.5637\n",
      "Epoch 9/20\n",
      "3761/3761 [==============================] - 36s 10ms/sample - loss: 0.9221 - acc: 0.5972\n",
      "Epoch 10/20\n",
      "3761/3761 [==============================] - 36s 10ms/sample - loss: 0.8875 - acc: 0.6049\n",
      "Epoch 11/20\n",
      "3761/3761 [==============================] - 36s 10ms/sample - loss: 0.8405 - acc: 0.6278\n",
      "Epoch 12/20\n",
      "3761/3761 [==============================] - 36s 10ms/sample - loss: 0.8007 - acc: 0.6434\n",
      "Epoch 13/20\n",
      "3761/3761 [==============================] - 36s 10ms/sample - loss: 0.7599 - acc: 0.6767\n",
      "Epoch 14/20\n",
      "3761/3761 [==============================] - 39s 10ms/sample - loss: 0.6975 - acc: 0.7017\n",
      "Epoch 15/20\n",
      "3761/3761 [==============================] - 41s 11ms/sample - loss: 0.6012 - acc: 0.7455\n",
      "Epoch 16/20\n",
      "3761/3761 [==============================] - 38s 10ms/sample - loss: 0.5377 - acc: 0.7820\n",
      "Epoch 17/20\n",
      "3761/3761 [==============================] - 36s 10ms/sample - loss: 0.4923 - acc: 0.8032\n",
      "Epoch 18/20\n",
      "3761/3761 [==============================] - 36s 10ms/sample - loss: 0.3682 - acc: 0.8516\n",
      "Epoch 19/20\n",
      "3761/3761 [==============================] - 36s 10ms/sample - loss: 0.3518 - acc: 0.8636\n",
      "Epoch 20/20\n",
      "3761/3761 [==============================] - 36s 10ms/sample - loss: 0.2995 - acc: 0.8870\n"
     ]
    },
    {
     "data": {
      "text/plain": [
       "<tensorflow.python.keras.callbacks.History at 0x7f41180288d0>"
      ]
     },
     "execution_count": 10,
     "metadata": {},
     "output_type": "execute_result"
    }
   ],
   "source": [
    "model.fit(trainImages, trainLabels, batch_size = 50, epochs = 20, verbose = 1)"
   ]
  },
  {
   "cell_type": "code",
   "execution_count": 11,
   "metadata": {
    "ExecuteTime": {
     "end_time": "2020-05-08T00:41:16.089000Z",
     "start_time": "2020-05-08T00:41:11.100528Z"
    }
   },
   "outputs": [
    {
     "name": "stdout",
     "output_type": "stream",
     "text": [
      "52.34042406082153\n"
     ]
    }
   ],
   "source": [
    "loss, accuracy = model.evaluate(testImages, testLabels, verbose = 0)\n",
    "print(accuracy * 100)"
   ]
  },
  {
   "cell_type": "code",
   "execution_count": 12,
   "metadata": {
    "ExecuteTime": {
     "end_time": "2020-05-08T00:41:21.206161Z",
     "start_time": "2020-05-08T00:41:16.100448Z"
    }
   },
   "outputs": [
    {
     "data": {
      "image/png": "[encoded data removed]",
      "text/plain": [
       "<Figure size 1080x720 with 1 Axes>"
      ]
     },
     "metadata": {},
     "output_type": "display_data"
    }
   ],
   "source": [
    "import matplotlib.colors as mcolors\n",
    "import random\n",
    "\n",
    "n_classes = len(age_labels)\n",
    "\n",
    "y_pred_keras = model.predict(testImages)\n",
    "\n",
    "# Plot linewidth.\n",
    "lw = 2\n",
    "\n",
    "# Compute ROC curve and ROC area for each class\n",
    "fpr = dict()\n",
    "tpr = dict()\n",
    "roc_auc = dict()\n",
    "\n",
    "for i in range(n_classes):\n",
    "    fpr[i], tpr[i], _ = roc_curve(testLabels[:, i], y_pred_keras[:, i])\n",
    "    roc_auc[i] = auc(fpr[i], tpr[i])\n",
    "\n",
    "# First aggregate all false positive rates\n",
    "all_fpr = np.unique(np.concatenate([fpr[i] for i in range(n_classes)]))\n",
    "\n",
    "# Then interpolate all ROC curves at this points\n",
    "mean_tpr = np.zeros_like(all_fpr)\n",
    "\n",
    "for i in range(n_classes):\n",
    "    mean_tpr += np.interp(all_fpr, fpr[i], tpr[i])\n",
    "\n",
    "# Finally average it and compute AUC\n",
    "mean_tpr /= n_classes\n",
    "\n",
    "# Plot all ROC curves\n",
    "plt.figure(figsize=(15,10))\n",
    "\n",
    "\n",
    "base_colors = list(mcolors.BASE_COLORS.keys())\n",
    "tab_colors = list(mcolors.TABLEAU_COLORS.keys())            \n",
    "color_list = base_colors + tab_colors                                \n",
    "random.shuffle(color_list)\n",
    "\n",
    "colors = cycle(color_list)\n",
    "labels = age_labels\n",
    "\n",
    "for i, color, l in zip(range(n_classes), colors, labels):\n",
    "    plt.plot(fpr[i], tpr[i], color=color, lw=lw,\n",
    "             label='ROC curve: {0} (area = {1:0.2f})'\n",
    "             ''.format(l, roc_auc[i]))\n",
    "\n",
    "plt.plot([0, 1], [0, 1], 'k--', lw=lw)\n",
    "plt.xlim([0.0, 1.0])\n",
    "plt.ylim([0.0, 1.05])\n",
    "plt.xlabel('False Positive Rate')\n",
    "plt.ylabel('True Positive Rate')\n",
    "plt.title('ROC Curve')\n",
    "plt.legend(loc=\"lower right\")\n",
    "plt.show()"
   ]
  },
  {
   "cell_type": "code",
   "execution_count": null,
   "metadata": {},
   "outputs": [],
   "source": []
  }
 ],
 "metadata": {
  "kernelspec": {
   "display_name": "Python 3",
   "language": "python",
   "name": "python3"
  },
  "language_info": {
   "codemirror_mode": {
    "name": "ipython",
    "version": 3
   },
   "file_extension": ".py",
   "mimetype": "text/x-python",
   "name": "python",
   "nbconvert_exporter": "python",
   "pygments_lexer": "ipython3",
   "version": "3.7.7"
  },
  "toc": {
   "base_numbering": 1,
   "nav_menu": {},
   "number_sections": true,
   "sideBar": true,
   "skip_h1_title": false,
   "title_cell": "Table of Contents",
   "title_sidebar": "Contents",
   "toc_cell": false,
   "toc_position": {},
   "toc_section_display": true,
   "toc_window_display": false
  }
 },
 "nbformat": 4,
 "nbformat_minor": 2
}

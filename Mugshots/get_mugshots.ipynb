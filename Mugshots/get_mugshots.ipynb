{
 "cells": [
  {
   "cell_type": "code",
   "execution_count": 1,
   "metadata": {
    "ExecuteTime": {
     "end_time": "2020-06-18T17:49:49.219429Z",
     "start_time": "2020-06-18T17:49:46.490433Z"
    }
   },
   "outputs": [],
   "source": [
    "import requests\n",
    "from csv import writer\n",
    "from pprint import pprint\n",
    "from bs4 import BeautifulSoup\n",
    "import shutil\n",
    "import pandas as pd\n",
    "import cv2\n",
    "import numpy as np\n",
    "import os\n",
    "from datetime import datetime, timedelta\n",
    "import datetime"
   ]
  },
  {
   "cell_type": "code",
   "execution_count": 2,
   "metadata": {
    "ExecuteTime": {
     "end_time": "2020-06-18T17:49:49.246429Z",
     "start_time": "2020-06-18T17:49:49.220429Z"
    }
   },
   "outputs": [],
   "source": [
    "mug_details = pd.read_csv('../data/mugshot_details.csv')\n",
    "mug_individuals = pd.read_csv('../data/individual_details.csv')\n",
    "existing_id = list(mug_details.booking_number)"
   ]
  },
  {
   "cell_type": "code",
   "execution_count": 3,
   "metadata": {
    "ExecuteTime": {
     "end_time": "2020-06-18T17:49:49.263445Z",
     "start_time": "2020-06-18T17:49:49.247429Z"
    }
   },
   "outputs": [],
   "source": [
    "def save_mugshot(booking_id,url,img_path):\n",
    "\n",
    "    resp = requests.get(url, stream=True)\n",
    "    local_file = open(f'{img_path}{booking_id}.png', 'wb')\n",
    "    resp.raw.decode_content = True\n",
    "    shutil.copyfileobj(resp.raw, local_file)\n",
    "\n",
    "\n",
    "def append_csv(file,data):\n",
    "    with open(f'../data/{file}.csv', 'a+', newline='') as write_obj:\n",
    "        csv_writer = writer(write_obj)\n",
    "        csv_writer.writerow(data)\n",
    "\n",
    "        \n",
    "def remove_blanks(img_path):\n",
    "    for img in os.listdir(img_path):\n",
    "\n",
    "        path = os.path.join(img_path, img)\n",
    "        filename = img.split('.')[0]\n",
    "        img_array = cv2.imread(path, cv2.IMREAD_GRAYSCALE)\n",
    "\n",
    "        if np.shape(img_array) == ():\n",
    "            os.remove(img_path + img)\n",
    "        \n",
    "        \n",
    "def get_individual(booking_id):\n",
    "    URL = f'https://www.mcso.org/Mugshot/GetMugshotDetails?bookingNumber={booking_id}'\n",
    "    booking_url = requests.get(URL)\n",
    "    booking_page = BeautifulSoup(booking_url.content, 'html.parser')\n",
    "\n",
    "    details_match = booking_page.findAll('div', class_='col-md-6')[1].text\n",
    "    piece = details_match.split('\\n')\n",
    "\n",
    "    details = []\n",
    "\n",
    "    for p in piece:\n",
    "        if p not in '':\n",
    "            details.append(p.split(':')[-1].strip())\n",
    "\n",
    "\n",
    "    crime_match = booking_page.find('div', class_='col-md-9')\n",
    "\n",
    "    crimes = []\n",
    "\n",
    "    for m in crime_match.findAll('div'):\n",
    "        count = m.text.split('of ')[1].rstrip()\n",
    "\n",
    "        if count not in '':\n",
    "            if count not in crimes:\n",
    "                crimes.append(count)\n",
    "\n",
    "    details.append(crimes)\n",
    "\n",
    "    return details"
   ]
  },
  {
   "cell_type": "markdown",
   "metadata": {},
   "source": [
    "# Maricopa County"
   ]
  },
  {
   "cell_type": "code",
   "execution_count": 4,
   "metadata": {
    "ExecuteTime": {
     "end_time": "2020-06-18T17:49:49.999429Z",
     "start_time": "2020-06-18T17:49:49.264428Z"
    }
   },
   "outputs": [],
   "source": [
    "URL = 'https://www.mcso.org/Mugshot'\n",
    "page = requests.get(URL)\n",
    "main = BeautifulSoup(page.content, 'html.parser')\n",
    "img_path = '../mugshots/mugs/'"
   ]
  },
  {
   "cell_type": "code",
   "execution_count": 5,
   "metadata": {
    "ExecuteTime": {
     "end_time": "2020-06-18T17:50:16.028022Z",
     "start_time": "2020-06-18T17:49:50.000430Z"
    }
   },
   "outputs": [],
   "source": [
    "url_index = 0\n",
    "index = 0\n",
    "\n",
    "bookings = main.findAll('td', attrs={\"style\": \"vertical-align: middle\"})\n",
    "\n",
    "booking_detail = []\n",
    "individual_details = []\n",
    "\n",
    "while index <= 1326:\n",
    "\n",
    "    individual_detail = []\n",
    "\n",
    "    # parse the individual details\n",
    "    for i in range(index,index+6):\n",
    "        individual_detail.append(bookings[i].text.rstrip())\n",
    "\n",
    "    # Want to stop when an existing record is found\n",
    "    if individual_detail[0] in existing_id:\n",
    "        break\n",
    "\n",
    "    # Append individual mughshot details\n",
    "    append_csv('../data/mugshot_details', individual_detail)\n",
    "\n",
    "    # Mugshot downlaod\n",
    "    image_url = f'https://www.mcso.org/Images/Mugshots/{individual_detail[0]}_030000.jpg'\n",
    "    save_mugshot(individual_detail[0],image_url,img_path)\n",
    "\n",
    "    # Append individual booking details\n",
    "    append_csv('individual_details', get_individual(individual_detail[0]))\n",
    "\n",
    "    # Update indexes to parse html\n",
    "    url_index += 1\n",
    "    index += 6"
   ]
  },
  {
   "cell_type": "code",
   "execution_count": 6,
   "metadata": {
    "ExecuteTime": {
     "end_time": "2020-06-18T17:50:28.314022Z",
     "start_time": "2020-06-18T17:50:16.029023Z"
    }
   },
   "outputs": [],
   "source": [
    "remove_blanks(img_path)"
   ]
  },
  {
   "cell_type": "markdown",
   "metadata": {},
   "source": [
    "# Osceola County"
   ]
  },
  {
   "cell_type": "code",
   "execution_count": 7,
   "metadata": {
    "ExecuteTime": {
     "end_time": "2020-06-18T17:50:28.318025Z",
     "start_time": "2020-06-18T17:50:28.315022Z"
    }
   },
   "outputs": [],
   "source": [
    "today = datetime.date.today()\n",
    "yesterday = today - datetime.timedelta(days = 1)\n",
    "booking_date_string = yesterday.strftime('%Y-%m-%d')"
   ]
  },
  {
   "cell_type": "code",
   "execution_count": 8,
   "metadata": {
    "ExecuteTime": {
     "end_time": "2020-06-18T17:50:28.339022Z",
     "start_time": "2020-06-18T17:50:28.319024Z"
    }
   },
   "outputs": [],
   "source": [
    "img_path = '../mugshots/osceola/'\n",
    "downloaded_images = [img.split('.')[0] for img in os.listdir(img_path)]"
   ]
  },
  {
   "cell_type": "code",
   "execution_count": 9,
   "metadata": {
    "ExecuteTime": {
     "end_time": "2020-06-18T17:50:51.083918Z",
     "start_time": "2020-06-18T17:50:28.340022Z"
    }
   },
   "outputs": [],
   "source": [
    "url = f'https://apps.osceola.org/Apps/CorrectionsReports/Report/Daily/{booking_date_string}'\n",
    "page = requests.get(url)\n",
    "main = BeautifulSoup(page.content, 'html.parser')\n",
    "\n",
    "bookings = main.findAll('span', class_=\"arrest-number\")\n",
    "\n",
    "booking_numbers = [(str(b).split('>')[1].split('<')[0]) for b in bookings]\n",
    "\n",
    "for inmate_id in booking_numbers:\n",
    "\n",
    "    if inmate_id not in downloaded_images:\n",
    "\n",
    "        image_url = f'http://198.140.240.14/files/modules/Corrections/InmateSearch/mugshot/{inmate_id}.jpg'\n",
    "\n",
    "        save_mugshot(inmate_id,image_url,img_path)"
   ]
  },
  {
   "cell_type": "code",
   "execution_count": 10,
   "metadata": {
    "ExecuteTime": {
     "end_time": "2020-06-18T17:50:54.875955Z",
     "start_time": "2020-06-18T17:50:51.084917Z"
    }
   },
   "outputs": [],
   "source": [
    "remove_blanks(img_path)"
   ]
  },
  {
   "cell_type": "code",
   "execution_count": null,
   "metadata": {},
   "outputs": [],
   "source": []
  }
 ],
 "metadata": {
  "kernelspec": {
   "display_name": "Python 3",
   "language": "python",
   "name": "python3"
  },
  "language_info": {
   "codemirror_mode": {
    "name": "ipython",
    "version": 3
   },
   "file_extension": ".py",
   "mimetype": "text/x-python",
   "name": "python",
   "nbconvert_exporter": "python",
   "pygments_lexer": "ipython3",
   "version": "3.7.7"
  },
  "toc": {
   "base_numbering": 1,
   "nav_menu": {},
   "number_sections": true,
   "sideBar": true,
   "skip_h1_title": false,
   "title_cell": "Table of Contents",
   "title_sidebar": "Contents",
   "toc_cell": false,
   "toc_position": {},
   "toc_section_display": true,
   "toc_window_display": false
  }
 },
 "nbformat": 4,
 "nbformat_minor": 2
}

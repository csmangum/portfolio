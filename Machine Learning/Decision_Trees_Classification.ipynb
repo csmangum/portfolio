{
 "cells": [
  {
   "cell_type": "markdown",
   "metadata": {},
   "source": [
    "# Decision Trees (Classification)\n",
    "***\n",
    "### Purpose:\n",
    "This notebook will be an evolving investigation into decision tree algorithms, with a lot of focus on sickit learn's algorithm.\n",
    "\n",
    "Decision tree's are simple greedy algorithms, easy to interptret and are a good base before getting into more complex modeling. Sickit Learn's algorith is based of the Classification and Regression Tree (CART) algorithm with some limitations.\n",
    "\n",
    "### Benefits:\n",
    "* Non-parametric\n",
    "* Does not require feature scaling or centering\n",
    "\n",
    "### Limitations:\n",
    "* Some instability\n",
    "* Orthogonal decision boundaries\n",
    "* Sensitive to training set rotation\n",
    "* They are very sensitive to small variations in the training data\n",
    "* Stochastic\n",
    "* Sickit Learn CART algorithm doesnt do pruning\n",
    "\n",
    "### Evaluation Options:\n",
    "* Confusion Matrix\n",
    "* Precision, Recall, F-Score\n",
    "* Receiver operating characteristic (ROC) curve\n",
    "* Decision Tree decision boundaries\n",
    "* A good way to evaluate a model is to use cross-validation\n",
    "\n",
    "### Outline\n",
    "1. Simple Model\n",
    "2. Explore Parameters\n",
    "2. Attributes and Methods\n",
    "3. Scoring Methods\n",
    "4. Optimization\n",
    "    * Principle Component Analysis\n",
    "    * Independent Component Analysis\n",
    "    * Feature Selection\n",
    "    * Grid Search\n",
    "    * Cross-Validation\n",
    "5. Final Evaluation\n",
    "\n",
    "## To-Do\n",
    "1. Complete scoring section\n",
    "2. More details on the algorithm itself\n",
    "3. Complete fine tuning examples\n",
    "4. Complete an overall optimized model"
   ]
  },
  {
   "cell_type": "markdown",
   "metadata": {},
   "source": [
    "# Import Libraries"
   ]
  },
  {
   "cell_type": "code",
   "execution_count": 1,
   "metadata": {
    "collapsed": true
   },
   "outputs": [],
   "source": [
    "import pandas as pd\n",
    "import numpy as np\n",
    "import matplotlib.pyplot as plt\n",
    "import seaborn as sns\n",
    "%matplotlib inline\n",
    "\n",
    "loan = pd.read_csv('data/loan_data.csv')"
   ]
  },
  {
   "cell_type": "markdown",
   "metadata": {},
   "source": [
    "# Data Preperation"
   ]
  },
  {
   "cell_type": "code",
   "execution_count": 2,
   "metadata": {
    "collapsed": true
   },
   "outputs": [],
   "source": [
    "# Seperate out features and target\n",
    "features = ['purpose']\n",
    "final = pd.get_dummies(loan,columns=features,drop_first=True)\n",
    "from sklearn.model_selection import train_test_split\n",
    "\n",
    "# Split the data\n",
    "X = final.drop('not.fully.paid',axis=1)\n",
    "y = final['not.fully.paid']\n",
    "X_train, X_test, y_train, y_test = train_test_split(X, \n",
    "                        y, test_size=0.30, random_state=123)"
   ]
  },
  {
   "cell_type": "markdown",
   "metadata": {},
   "source": [
    "# Train the Model"
   ]
  },
  {
   "cell_type": "code",
   "execution_count": 3,
   "metadata": {},
   "outputs": [
    {
     "name": "stdout",
     "output_type": "stream",
     "text": [
      "[[1996  398]\n",
      " [ 371  109]]\n",
      "             precision    recall  f1-score   support\n",
      "\n",
      "          0       0.84      0.83      0.84      2394\n",
      "          1       0.21      0.23      0.22       480\n",
      "\n",
      "avg / total       0.74      0.73      0.74      2874\n",
      "\n"
     ]
    }
   ],
   "source": [
    "# Using the onboard classifier\n",
    "from sklearn.tree import DecisionTreeClassifier\n",
    "dtree = DecisionTreeClassifier()\n",
    "dtree.fit(X_train,y_train)\n",
    "\n",
    "# Print out how the model perfomed\n",
    "from sklearn.metrics import classification_report,confusion_matrix\n",
    "predict = dtree.predict(X_test)\n",
    "print(confusion_matrix(y_test,predict))\n",
    "print(classification_report(y_test,predict))"
   ]
  },
  {
   "cell_type": "markdown",
   "metadata": {},
   "source": [
    "### Takeaways:\n",
    "* Without any changes, the model performed below any acceptable level\n",
    "* Concerning to see the difference between the two classes in accuracy\n",
    "* Many 'false' predictions\n",
    "***"
   ]
  },
  {
   "cell_type": "markdown",
   "metadata": {},
   "source": [
    "# Parameters"
   ]
  },
  {
   "cell_type": "markdown",
   "metadata": {
    "collapsed": true
   },
   "source": [
    "### Criterion: Gini vs Entropy\n",
    "\n",
    "Gini impurity is a measure of how often a randomly chosen element from the set would be incorrectly labeled if it was randomly labeled according to the distribution of labels in the subset\n",
    "\n",
    "$\\textit{Gini}: \\mathit{Gini}(E) = 1 - \\sum_{j=1}^{c}p_j^2$\n",
    "\n",
    "Entropy is used to decide which feature to split on at each step in building the tree.\n",
    "\n",
    "$\\textit{Entropy}: H(E) = -\\sum_{j=1}^{c}p_j\\log p_j$\n",
    "\n",
    "I haven't seen a consensus on which to use but more favor is with Gini Impurity"
   ]
  },
  {
   "cell_type": "code",
   "execution_count": 4,
   "metadata": {},
   "outputs": [
    {
     "name": "stdout",
     "output_type": "stream",
     "text": [
      "[[2023  371]\n",
      " [ 365  115]]\n",
      "             precision    recall  f1-score   support\n",
      "\n",
      "          0       0.85      0.85      0.85      2394\n",
      "          1       0.24      0.24      0.24       480\n",
      "\n",
      "avg / total       0.75      0.74      0.74      2874\n",
      "\n"
     ]
    },
    {
     "data": {
      "text/plain": [
       "0.25608907446068196"
      ]
     },
     "execution_count": 4,
     "metadata": {},
     "output_type": "execute_result"
    }
   ],
   "source": [
    "from sklearn.metrics import mean_squared_error\n",
    "from sklearn.metrics import classification_report,confusion_matrix\n",
    "\n",
    "# Using Gini Impurity\n",
    "from sklearn.tree import DecisionTreeClassifier\n",
    "dtree_gini = DecisionTreeClassifier(criterion='gini')\n",
    "dtree_gini.fit(X_train,y_train)\n",
    "\n",
    "predict_gini = dtree_gini.predict(X_test)\n",
    "print(confusion_matrix(y_test,predict_gini))\n",
    "print(classification_report(y_test,predict_gini))\n",
    "mean_squared_error(y_test,predict_gini)"
   ]
  },
  {
   "cell_type": "code",
   "execution_count": 5,
   "metadata": {},
   "outputs": [
    {
     "name": "stdout",
     "output_type": "stream",
     "text": [
      "[[2020  374]\n",
      " [ 372  108]]\n",
      "             precision    recall  f1-score   support\n",
      "\n",
      "          0       0.84      0.84      0.84      2394\n",
      "          1       0.22      0.23      0.22       480\n",
      "\n",
      "avg / total       0.74      0.74      0.74      2874\n",
      "\n"
     ]
    },
    {
     "data": {
      "text/plain": [
       "0.25956854558107167"
      ]
     },
     "execution_count": 5,
     "metadata": {},
     "output_type": "execute_result"
    }
   ],
   "source": [
    "# Using Entropy\n",
    "dtree_entropy = DecisionTreeClassifier(criterion='entropy')\n",
    "dtree_entropy.fit(X_train,y_train)\n",
    "\n",
    "predict_entropy = dtree_entropy.predict(X_test)\n",
    "print(confusion_matrix(y_test,predict_entropy))\n",
    "print(classification_report(y_test,predict_entropy))\n",
    "mean_squared_error(y_test,predict_entropy)"
   ]
  },
  {
   "cell_type": "markdown",
   "metadata": {},
   "source": [
    "### Results:\n",
    "* They performed similarly\n",
    "* Entropy had lower MSE\n",
    "* Performed similarly with the true positives\n",
    "***"
   ]
  },
  {
   "cell_type": "markdown",
   "metadata": {},
   "source": [
    "### Splitter - Best vs Random\n",
    "\n",
    "* “Best” to choose the best split\n",
    "* “Random” to choose the best random split"
   ]
  },
  {
   "cell_type": "code",
   "execution_count": 6,
   "metadata": {},
   "outputs": [
    {
     "name": "stdout",
     "output_type": "stream",
     "text": [
      "[[2005  389]\n",
      " [ 363  117]]\n",
      "             precision    recall  f1-score   support\n",
      "\n",
      "          0       0.85      0.84      0.84      2394\n",
      "          1       0.23      0.24      0.24       480\n",
      "\n",
      "avg / total       0.74      0.74      0.74      2874\n",
      "\n"
     ]
    },
    {
     "data": {
      "text/plain": [
       "0.26165622825330548"
      ]
     },
     "execution_count": 6,
     "metadata": {},
     "output_type": "execute_result"
    }
   ],
   "source": [
    "# Best\n",
    "from sklearn.tree import DecisionTreeClassifier\n",
    "dtree_best = DecisionTreeClassifier(splitter='best')\n",
    "dtree_best.fit(X_train,y_train)\n",
    "\n",
    "predict_best = dtree_best.predict(X_test)\n",
    "print(confusion_matrix(y_test,predict_best))\n",
    "print(classification_report(y_test,predict_best))\n",
    "mean_squared_error(y_test,predict_best)"
   ]
  },
  {
   "cell_type": "code",
   "execution_count": 7,
   "metadata": {},
   "outputs": [
    {
     "name": "stdout",
     "output_type": "stream",
     "text": [
      "[[2000  394]\n",
      " [ 365  115]]\n",
      "             precision    recall  f1-score   support\n",
      "\n",
      "          0       0.85      0.84      0.84      2394\n",
      "          1       0.23      0.24      0.23       480\n",
      "\n",
      "avg / total       0.74      0.74      0.74      2874\n",
      "\n"
     ]
    },
    {
     "data": {
      "text/plain": [
       "0.26409185803757829"
      ]
     },
     "execution_count": 7,
     "metadata": {},
     "output_type": "execute_result"
    }
   ],
   "source": [
    "# Random\n",
    "from sklearn.tree import DecisionTreeClassifier\n",
    "dtree_random = DecisionTreeClassifier(splitter=\"random\")\n",
    "dtree_random.fit(X_train,y_train)\n",
    "\n",
    "predict_random = dtree_random.predict(X_test)\n",
    "print(confusion_matrix(y_test,predict_random))\n",
    "print(classification_report(y_test,predict_random))\n",
    "mean_squared_error(y_test,predict_random)"
   ]
  },
  {
   "cell_type": "markdown",
   "metadata": {},
   "source": [
    "### Results:\n",
    "* Random splitter had a higher MSE and lower accuracy\n",
    "* I don't know the benefit of ever using a random splitter\n",
    "***"
   ]
  },
  {
   "cell_type": "markdown",
   "metadata": {
    "collapsed": true
   },
   "source": [
    "### Max Depth\n",
    "\n",
    "The maximum depth of the tree. If None, then nodes are expanded until all leaves are pure or until all leaves contain less than min_samples_split samples"
   ]
  },
  {
   "cell_type": "code",
   "execution_count": 8,
   "metadata": {},
   "outputs": [
    {
     "name": "stdout",
     "output_type": "stream",
     "text": [
      "0.408674214722 {'max_depth': 2}\n",
      "0.420838543895 {'max_depth': 4}\n",
      "0.429026831642 {'max_depth': 6}\n",
      "0.452703930832 {'max_depth': 8}\n",
      "0.455003880932 {'max_depth': 10}\n",
      "0.473368714802 {'max_depth': 12}\n"
     ]
    }
   ],
   "source": [
    "# Use a grid search to tune hyperparameters\n",
    "from sklearn.model_selection import GridSearchCV\n",
    "\n",
    "param_grid = [\n",
    "    {'max_depth': [2, 4, 6, 8, 10, 12]},\n",
    "  ]\n",
    "\n",
    "# execute the grid search\n",
    "dtree_grid = DecisionTreeClassifier(random_state=42)\n",
    "grid_search = GridSearchCV(dtree_grid, param_grid,\n",
    "                           scoring='neg_mean_squared_error')\n",
    "grid_search.fit(X_test, y_test)\n",
    "\n",
    "# Score the grid search\n",
    "cvres = grid_search.cv_results_\n",
    "for mean_score, params in zip(cvres[\"mean_test_score\"], cvres[\"params\"]):\n",
    "    print(np.sqrt(-mean_score), params)"
   ]
  },
  {
   "cell_type": "markdown",
   "metadata": {},
   "source": [
    "### Results:\n",
    "* Max depth of 2 is optimal\n",
    "* Increasing the depth, increases MSE\n",
    "***"
   ]
  },
  {
   "cell_type": "markdown",
   "metadata": {},
   "source": [
    "### Minimum Sample Splits\n",
    "\n",
    "The minimum number of samples required to split an internal node"
   ]
  },
  {
   "cell_type": "code",
   "execution_count": 9,
   "metadata": {},
   "outputs": [
    {
     "name": "stdout",
     "output_type": "stream",
     "text": [
      "0.526936234669 {'min_samples_split': 2}\n",
      "0.519956638629 {'min_samples_split': 5}\n",
      "0.51322116462 {'min_samples_split': 10}\n",
      "0.476664939094 {'min_samples_split': 25}\n",
      "0.453855362783 {'min_samples_split': 50}\n",
      "0.431856054783 {'min_samples_split': 100}\n"
     ]
    }
   ],
   "source": [
    "# Use a grid search to tune hyperparameters\n",
    "from sklearn.model_selection import GridSearchCV\n",
    "\n",
    "param_grid = [\n",
    "    {'min_samples_split': [2, 5, 10, 25, 50, 100]},\n",
    "  ]\n",
    "\n",
    "# execute the grid search\n",
    "dtree_grid = DecisionTreeClassifier(random_state=42)\n",
    "grid_search = GridSearchCV(dtree_grid, param_grid,\n",
    "                           scoring='neg_mean_squared_error')\n",
    "grid_search.fit(X_test, y_test)\n",
    "\n",
    "# Score the grid search\n",
    "cvres = grid_search.cv_results_\n",
    "for mean_score, params in zip(cvres[\"mean_test_score\"], cvres[\"params\"]):\n",
    "    print(np.sqrt(-mean_score), params)"
   ]
  },
  {
   "cell_type": "markdown",
   "metadata": {},
   "source": [
    "### Results:\n",
    "* Optimal split of 100, which makes the leaf have a larger set of instances to be valid\n",
    "* It's not linear though, the height of the error happened at 5 samples\n",
    "***"
   ]
  },
  {
   "cell_type": "markdown",
   "metadata": {},
   "source": [
    "### Minimum Sample Leaf\n",
    "\n",
    "The minimum number of samples required to be at a leaf node"
   ]
  },
  {
   "cell_type": "code",
   "execution_count": 10,
   "metadata": {},
   "outputs": [
    {
     "name": "stdout",
     "output_type": "stream",
     "text": [
      "0.497033650317 {'min_samples_leaf': 2}\n",
      "0.496333109236 {'min_samples_leaf': 5}\n",
      "0.466333512654 {'min_samples_leaf': 10}\n",
      "0.429026831642 {'min_samples_leaf': 25}\n",
      "0.408674214722 {'min_samples_leaf': 50}\n",
      "0.408674214722 {'min_samples_leaf': 100}\n"
     ]
    }
   ],
   "source": [
    "# Use a grid search to tune hyperparameters\n",
    "from sklearn.model_selection import GridSearchCV\n",
    "\n",
    "param_grid = [\n",
    "    {'min_samples_leaf': [2, 5, 10, 25, 50, 100]},\n",
    "  ]\n",
    "\n",
    "# execute the grid search\n",
    "dtree_grid = DecisionTreeClassifier(random_state=42)\n",
    "grid_search = GridSearchCV(dtree_grid, param_grid,\n",
    "                           scoring='neg_mean_squared_error')\n",
    "grid_search.fit(X_test, y_test)\n",
    "\n",
    "# Score the grid search\n",
    "cvres = grid_search.cv_results_\n",
    "for mean_score, params in zip(cvres[\"mean_test_score\"], cvres[\"params\"]):\n",
    "    print(np.sqrt(-mean_score), params)"
   ]
  },
  {
   "cell_type": "markdown",
   "metadata": {},
   "source": [
    "### Results:\n",
    "* Optimal split of 50, and plateuing after that\n",
    "* It's seems to be linear\n",
    "***"
   ]
  },
  {
   "cell_type": "markdown",
   "metadata": {},
   "source": [
    "### Minimum Weight Fraction Leaf\n",
    "\n",
    "The minimum weighted fraction of the sum total of weights (of all the input samples) required to be at a leaf node. Samples have equal weight when sample_weight is not provided."
   ]
  },
  {
   "cell_type": "code",
   "execution_count": 11,
   "metadata": {},
   "outputs": [
    {
     "name": "stdout",
     "output_type": "stream",
     "text": [
      "0.526936234669 {'min_weight_fraction_leaf': 0}\n",
      "0.408674214722 {'min_weight_fraction_leaf': 0.5}\n",
      "0.408674214722 {'min_weight_fraction_leaf': 0.05}\n",
      "0.467451373258 {'min_weight_fraction_leaf': 0.005}\n",
      "0.526936234669 {'min_weight_fraction_leaf': 0.0005}\n",
      "0.526936234669 {'min_weight_fraction_leaf': 5e-05}\n"
     ]
    }
   ],
   "source": [
    "# Use a grid search to tune hyperparameters\n",
    "from sklearn.model_selection import GridSearchCV\n",
    "\n",
    "param_grid = [\n",
    "    {'min_weight_fraction_leaf': [0, .5, .05, .005, .0005, .00005]},\n",
    "  ]\n",
    "\n",
    "# execute the grid search\n",
    "dtree_grid = DecisionTreeClassifier(random_state=42)\n",
    "grid_search = GridSearchCV(dtree_grid, param_grid,\n",
    "                           scoring='neg_mean_squared_error')\n",
    "grid_search.fit(X_test, y_test)\n",
    "\n",
    "# Score the grid search\n",
    "cvres = grid_search.cv_results_\n",
    "for mean_score, params in zip(cvres[\"mean_test_score\"], cvres[\"params\"]):\n",
    "    print(np.sqrt(-mean_score), params)"
   ]
  },
  {
   "cell_type": "markdown",
   "metadata": {},
   "source": [
    "### Results:\n",
    "* Optimal weight is .5\n",
    "* Not linear, the MSE fluctuates\n",
    "***"
   ]
  },
  {
   "cell_type": "markdown",
   "metadata": {},
   "source": [
    "### Max Features\n",
    "\n",
    "The number of features to consider when looking for the best split"
   ]
  },
  {
   "cell_type": "code",
   "execution_count": 12,
   "metadata": {},
   "outputs": [
    {
     "name": "stdout",
     "output_type": "stream",
     "text": [
      "0.50913711166 {'max_features': 2}\n",
      "0.527596142548 {'max_features': 3}\n",
      "0.524951533701 {'max_features': 4}\n",
      "0.506052442402 {'max_features': 5}\n",
      "0.514575312526 {'max_features': 6}\n",
      "0.51928702259 {'max_features': 7}\n",
      "0.514237109853 {'max_features': 8}\n",
      "0.512203204283 {'max_features': 9}\n",
      "0.525944820367 {'max_features': 10}\n",
      "0.524288297133 {'max_features': 11}\n",
      "0.527925787155 {'max_features': 12}\n",
      "0.526936234669 {'max_features': 18}\n"
     ]
    }
   ],
   "source": [
    "# Use a grid search to tune hyperparameters\n",
    "from sklearn.model_selection import GridSearchCV\n",
    "\n",
    "param_grid = [\n",
    "    {'max_features': [2, 3, 4, 5, 6, 7, 8, 9, 10, 11, 12, 18]},\n",
    "  ]\n",
    "\n",
    "# execute the grid search\n",
    "dtree_grid = DecisionTreeClassifier(random_state=42)\n",
    "grid_search = GridSearchCV(dtree_grid, param_grid,\n",
    "                           scoring='neg_mean_squared_error')\n",
    "grid_search.fit(X_test, y_test)\n",
    "\n",
    "# Score the grid search\n",
    "cvres = grid_search.cv_results_\n",
    "for mean_score, params in zip(cvres[\"mean_test_score\"], cvres[\"params\"]):\n",
    "    print(np.sqrt(-mean_score), params)"
   ]
  },
  {
   "cell_type": "markdown",
   "metadata": {},
   "source": [
    "### Results:\n",
    "* Optimal features is 5\n",
    "* Almost linear\n",
    "***"
   ]
  },
  {
   "cell_type": "markdown",
   "metadata": {},
   "source": [
    "### Max Leaf Nodes\n",
    "\n",
    "Grow a tree with max_leaf_nodes in best-first fashion. Best nodes are defined as relative reduction in impurity. If None then unlimited number of leaf nodes."
   ]
  },
  {
   "cell_type": "code",
   "execution_count": 13,
   "metadata": {},
   "outputs": [
    {
     "name": "stdout",
     "output_type": "stream",
     "text": [
      "0.408674214722 {'max_leaf_nodes': 2}\n",
      "0.408674214722 {'max_leaf_nodes': 3}\n",
      "0.408674214722 {'max_leaf_nodes': 4}\n",
      "0.414171373027 {'max_leaf_nodes': 5}\n",
      "0.414591212337 {'max_leaf_nodes': 6}\n",
      "0.414171373027 {'max_leaf_nodes': 7}\n",
      "0.416684063659 {'max_leaf_nodes': 8}\n",
      "0.418766455757 {'max_leaf_nodes': 9}\n",
      "0.418350806567 {'max_leaf_nodes': 10}\n",
      "0.418350806567 {'max_leaf_nodes': 11}\n",
      "0.421251738441 {'max_leaf_nodes': 12}\n",
      "0.420838543895 {'max_leaf_nodes': 18}\n"
     ]
    }
   ],
   "source": [
    "# Use a grid search to tune hyperparameters\n",
    "from sklearn.model_selection import GridSearchCV\n",
    "\n",
    "param_grid = [\n",
    "    {'max_leaf_nodes': [2, 3, 4, 5, 6, 7, 8, 9, 10, 11, 12, 18]},\n",
    "  ]\n",
    "\n",
    "# execute the grid search\n",
    "dtree_grid = DecisionTreeClassifier(random_state=42)\n",
    "grid_search = GridSearchCV(dtree_grid, param_grid,\n",
    "                           scoring='neg_mean_squared_error')\n",
    "grid_search.fit(X_test, y_test)\n",
    "\n",
    "# Score the grid search\n",
    "cvres = grid_search.cv_results_\n",
    "for mean_score, params in zip(cvres[\"mean_test_score\"], cvres[\"params\"]):\n",
    "    print(np.sqrt(-mean_score), params)"
   ]
  },
  {
   "cell_type": "markdown",
   "metadata": {},
   "source": [
    "### Results:\n",
    "* Optimal leafs are 4 or less\n",
    "* Somewhat linear\n",
    "***"
   ]
  },
  {
   "cell_type": "markdown",
   "metadata": {},
   "source": [
    "## Attributes"
   ]
  },
  {
   "cell_type": "code",
   "execution_count": 14,
   "metadata": {},
   "outputs": [
    {
     "data": {
      "text/plain": [
       "array([ 0.0270811 ,  0.07842286,  0.13389518,  0.13616954,  0.11166148,\n",
       "        0.06198389,  0.12004937,  0.12061026,  0.11584902,  0.02684615,\n",
       "        0.01298071,  0.00993694,  0.00862029,  0.00881946,  0.00505437,\n",
       "        0.00781489,  0.00505934,  0.00914515])"
      ]
     },
     "execution_count": 14,
     "metadata": {},
     "output_type": "execute_result"
    }
   ],
   "source": [
    "# Rating the importance of each feature to the model\n",
    "dtree_gini.feature_importances_"
   ]
  },
  {
   "cell_type": "code",
   "execution_count": 15,
   "metadata": {},
   "outputs": [
    {
     "data": {
      "text/plain": [
       "array([0, 1], dtype=int64)"
      ]
     },
     "execution_count": 15,
     "metadata": {},
     "output_type": "execute_result"
    }
   ],
   "source": [
    "# Listing of classes, only two in this case\n",
    "dtree_gini.classes_"
   ]
  },
  {
   "cell_type": "code",
   "execution_count": 16,
   "metadata": {},
   "outputs": [
    {
     "data": {
      "text/plain": [
       "18"
      ]
     },
     "execution_count": 16,
     "metadata": {},
     "output_type": "execute_result"
    }
   ],
   "source": [
    "# Number of total features\n",
    "dtree_gini.n_features_ "
   ]
  },
  {
   "cell_type": "markdown",
   "metadata": {},
   "source": [
    "## Scoring"
   ]
  },
  {
   "cell_type": "code",
   "execution_count": null,
   "metadata": {
    "collapsed": true
   },
   "outputs": [],
   "source": []
  },
  {
   "cell_type": "code",
   "execution_count": null,
   "metadata": {
    "collapsed": true
   },
   "outputs": [],
   "source": []
  },
  {
   "cell_type": "markdown",
   "metadata": {},
   "source": [
    "## Optimization"
   ]
  },
  {
   "cell_type": "markdown",
   "metadata": {},
   "source": [
    "### Principle Component Analysis (PCA)"
   ]
  },
  {
   "cell_type": "code",
   "execution_count": 17,
   "metadata": {},
   "outputs": [
    {
     "data": {
      "text/plain": [
       "<matplotlib.text.Text at 0x2b89014bc50>"
      ]
     },
     "execution_count": 17,
     "metadata": {},
     "output_type": "execute_result"
    },
    {
     "data": {
      "image/png": "[encoded data removed]",
      "text/plain": [
       "<matplotlib.figure.Figure at 0x2b88fd957f0>"
      ]
     },
     "metadata": {},
     "output_type": "display_data"
    }
   ],
   "source": [
    "# First will need to scale the values\n",
    "from sklearn.preprocessing import StandardScaler\n",
    "scaler = StandardScaler()\n",
    "scaler.fit(final)\n",
    "scaled_data = scaler.transform(final)\n",
    "\n",
    "# Perform the PCA\n",
    "from sklearn.decomposition import PCA\n",
    "pca = PCA(n_components=2)\n",
    "pca.fit(scaled_data)\n",
    "x_pca = pca.transform(scaled_data)\n",
    "\n",
    "# Plot the components\n",
    "plt.figure(figsize=(8,6))\n",
    "plt.scatter(x_pca[:,0],x_pca[:,1],c=loan['not.fully.paid'],cmap='coolwarm')\n",
    "plt.xlabel('First principal component')\n",
    "plt.ylabel('Second Principal Component')"
   ]
  },
  {
   "cell_type": "code",
   "execution_count": 18,
   "metadata": {},
   "outputs": [
    {
     "data": {
      "text/plain": [
       "<matplotlib.axes._subplots.AxesSubplot at 0x2b8901536a0>"
      ]
     },
     "execution_count": 18,
     "metadata": {},
     "output_type": "execute_result"
    },
    {
     "data": {
      "image/png": "[encoded data removed]",
      "text/plain": [
       "<matplotlib.figure.Figure at 0x2b8911a1a20>"
      ]
     },
     "metadata": {},
     "output_type": "display_data"
    }
   ],
   "source": [
    "df_comp = pd.DataFrame(pca.components_,columns=final.columns)\n",
    "plt.figure(figsize=(12,6))\n",
    "sns.heatmap(df_comp,cmap='coolwarm',)"
   ]
  }
 ],
 "metadata": {
  "kernelspec": {
   "display_name": "Python 3",
   "language": "python",
   "name": "python3"
  },
  "language_info": {
   "codemirror_mode": {
    "name": "ipython",
    "version": 3
   },
   "file_extension": ".py",
   "mimetype": "text/x-python",
   "name": "python",
   "nbconvert_exporter": "python",
   "pygments_lexer": "ipython3",
   "version": "3.6.1"
  }
 },
 "nbformat": 4,
 "nbformat_minor": 2
}
